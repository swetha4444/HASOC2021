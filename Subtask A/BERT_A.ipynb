{
  "nbformat": 4,
  "nbformat_minor": 2,
  "metadata": {
    "colab": {
      "name": "BERT_A.ipynb",
      "provenance": [],
      "collapsed_sections": []
    },
    "kernelspec": {
      "name": "python3",
      "display_name": "Python 3.9.6 64-bit"
    },
    "language_info": {
      "name": "python",
      "version": "3.9.6",
      "mimetype": "text/x-python",
      "codemirror_mode": {
        "name": "ipython",
        "version": 3
      },
      "pygments_lexer": "ipython3",
      "nbconvert_exporter": "python",
      "file_extension": ".py"
    },
    "interpreter": {
      "hash": "aee8b7b246df8f9039afb4144a1f6fd8d2ca17a180786b69acc140d282b71a49"
    }
  },
  "cells": [
    {
      "cell_type": "code",
      "execution_count": null,
      "source": [
        "pip install transformers"
      ],
      "outputs": [],
      "metadata": {
        "id": "J8XrPSp3s0V-"
      }
    },
    {
      "cell_type": "code",
      "execution_count": null,
      "source": [
        "pip install torchtext"
      ],
      "outputs": [],
      "metadata": {}
    },
    {
      "cell_type": "code",
      "execution_count": null,
      "source": [
        "pip install -U torchtext==0.8.0"
      ],
      "outputs": [],
      "metadata": {
        "id": "S9cw3Fn80xEF"
      }
    },
    {
      "cell_type": "code",
      "execution_count": null,
      "source": [
        "pip install preprocessor"
      ],
      "outputs": [],
      "metadata": {
        "id": "qztlrBCu3BsL"
      }
    },
    {
      "cell_type": "code",
      "execution_count": null,
      "source": [
        "pip install ktrain"
      ],
      "outputs": [],
      "metadata": {
        "id": "9yQpssAf3IE1"
      }
    },
    {
      "cell_type": "code",
      "execution_count": null,
      "source": [
        "pip install tensorflow"
      ],
      "outputs": [],
      "metadata": {}
    },
    {
      "cell_type": "code",
      "execution_count": 1,
      "source": [
        "import pandas as pd\n",
        "import numpy as np\n",
        "import matplotlib.pyplot as plt\n",
        "\n",
        "from keras.preprocessing.text import Tokenizer\n",
        "from sklearn.model_selection import train_test_split\n",
        "from nltk.stem import WordNetLemmatizer\n",
        "from nltk import word_tokenize\n",
        "import nltk\n",
        "import os\n",
        "import collections\n",
        "import re\n",
        "import string\n",
        "\n",
        "import preprocessor as p\n",
        "import ktrain\n",
        "from ktrain import text\n",
        "import nltk\n",
        "from sklearn.preprocessing import LabelEncoder\n"
      ],
      "outputs": [],
      "metadata": {
        "id": "kEW0sIquzbo8"
      }
    },
    {
      "cell_type": "code",
      "execution_count": 2,
      "source": [
        "df = pd.read_csv(\"preprocess_data.csv\",index_col=0)\n",
        "df= df.dropna()\n",
        "df.head()"
      ],
      "outputs": [
        {
          "output_type": "execute_result",
          "data": {
            "text/plain": [
              "   Unnamed: 0.1                       _id  \\\n",
              "0          4986  60c5d6bf5659ea5e55defa2c   \n",
              "1          3394  60c5d6bf5659ea5e55def461   \n",
              "2          1310  60c5d6bf5659ea5e55defaad   \n",
              "3          3390  60c5d6bf5659ea5e55def419   \n",
              "4          4626  60c5d6bf5659ea5e55def7fa   \n",
              "\n",
              "                                                text task_1 task_2  \\\n",
              "0  @wealth if you made it through this &amp;&amp;...    HOF   PRFN   \n",
              "1  Technically that's still turning back the cloc...    HOF   OFFN   \n",
              "2  @VMBJP @BJP4Bengal @BJP4India @narendramodi @J...    NOT   NONE   \n",
              "3  @krtoprak_yigit Soldier of Japan Who has dick ...    HOF   OFFN   \n",
              "4  @blueheartedly You'd be better off asking who ...    HOF   OFFN   \n",
              "\n",
              "                                          text_clean  \n",
              "0  made amp amp onli abl start make money sustain...  \n",
              "1            technic still turn back clock dick head  \n",
              "2  govt stop think world media liber gang ani opt...  \n",
              "3                            soldier japan dick head  \n",
              "4         would better ask think sleazi shitbag lmao  "
            ],
            "text/html": [
              "<div>\n",
              "<style scoped>\n",
              "    .dataframe tbody tr th:only-of-type {\n",
              "        vertical-align: middle;\n",
              "    }\n",
              "\n",
              "    .dataframe tbody tr th {\n",
              "        vertical-align: top;\n",
              "    }\n",
              "\n",
              "    .dataframe thead th {\n",
              "        text-align: right;\n",
              "    }\n",
              "</style>\n",
              "<table border=\"1\" class=\"dataframe\">\n",
              "  <thead>\n",
              "    <tr style=\"text-align: right;\">\n",
              "      <th></th>\n",
              "      <th>Unnamed: 0.1</th>\n",
              "      <th>_id</th>\n",
              "      <th>text</th>\n",
              "      <th>task_1</th>\n",
              "      <th>task_2</th>\n",
              "      <th>text_clean</th>\n",
              "    </tr>\n",
              "  </thead>\n",
              "  <tbody>\n",
              "    <tr>\n",
              "      <th>0</th>\n",
              "      <td>4986</td>\n",
              "      <td>60c5d6bf5659ea5e55defa2c</td>\n",
              "      <td>@wealth if you made it through this &amp;amp;&amp;amp;...</td>\n",
              "      <td>HOF</td>\n",
              "      <td>PRFN</td>\n",
              "      <td>made amp amp onli abl start make money sustain...</td>\n",
              "    </tr>\n",
              "    <tr>\n",
              "      <th>1</th>\n",
              "      <td>3394</td>\n",
              "      <td>60c5d6bf5659ea5e55def461</td>\n",
              "      <td>Technically that's still turning back the cloc...</td>\n",
              "      <td>HOF</td>\n",
              "      <td>OFFN</td>\n",
              "      <td>technic still turn back clock dick head</td>\n",
              "    </tr>\n",
              "    <tr>\n",
              "      <th>2</th>\n",
              "      <td>1310</td>\n",
              "      <td>60c5d6bf5659ea5e55defaad</td>\n",
              "      <td>@VMBJP @BJP4Bengal @BJP4India @narendramodi @J...</td>\n",
              "      <td>NOT</td>\n",
              "      <td>NONE</td>\n",
              "      <td>govt stop think world media liber gang ani opt...</td>\n",
              "    </tr>\n",
              "    <tr>\n",
              "      <th>3</th>\n",
              "      <td>3390</td>\n",
              "      <td>60c5d6bf5659ea5e55def419</td>\n",
              "      <td>@krtoprak_yigit Soldier of Japan Who has dick ...</td>\n",
              "      <td>HOF</td>\n",
              "      <td>OFFN</td>\n",
              "      <td>soldier japan dick head</td>\n",
              "    </tr>\n",
              "    <tr>\n",
              "      <th>4</th>\n",
              "      <td>4626</td>\n",
              "      <td>60c5d6bf5659ea5e55def7fa</td>\n",
              "      <td>@blueheartedly You'd be better off asking who ...</td>\n",
              "      <td>HOF</td>\n",
              "      <td>OFFN</td>\n",
              "      <td>would better ask think sleazi shitbag lmao</td>\n",
              "    </tr>\n",
              "  </tbody>\n",
              "</table>\n",
              "</div>"
            ]
          },
          "metadata": {},
          "execution_count": 2
        }
      ],
      "metadata": {
        "colab": {
          "base_uri": "https://localhost:8080/",
          "height": 310
        },
        "id": "bcfkfJMLOg5K",
        "outputId": "b412fcbb-8a73-4c08-8d6d-ef903173e4aa"
      }
    },
    {
      "cell_type": "code",
      "execution_count": 5,
      "source": [
        "LE = LabelEncoder()\n",
        "df['task_1'] = LE.fit_transform(df['task_1'])\n",
        "task1_params = dict(zip(LE.classes_, LE.transform(LE.classes_)))\n",
        "df.head()\n"
      ],
      "outputs": [
        {
          "output_type": "execute_result",
          "data": {
            "text/plain": [
              "   Unnamed: 0.1                       _id  \\\n",
              "0          4986  60c5d6bf5659ea5e55defa2c   \n",
              "1          3394  60c5d6bf5659ea5e55def461   \n",
              "2          1310  60c5d6bf5659ea5e55defaad   \n",
              "3          3390  60c5d6bf5659ea5e55def419   \n",
              "4          4626  60c5d6bf5659ea5e55def7fa   \n",
              "\n",
              "                                                text  task_1 task_2  \\\n",
              "0  @wealth if you made it through this &amp;&amp;...       0   PRFN   \n",
              "1  Technically that's still turning back the cloc...       0   OFFN   \n",
              "2  @VMBJP @BJP4Bengal @BJP4India @narendramodi @J...       1   NONE   \n",
              "3  @krtoprak_yigit Soldier of Japan Who has dick ...       0   OFFN   \n",
              "4  @blueheartedly You'd be better off asking who ...       0   OFFN   \n",
              "\n",
              "                                          text_clean  \n",
              "0  made amp amp onli abl start make money sustain...  \n",
              "1            technic still turn back clock dick head  \n",
              "2  govt stop think world media liber gang ani opt...  \n",
              "3                            soldier japan dick head  \n",
              "4         would better ask think sleazi shitbag lmao  "
            ],
            "text/html": [
              "<div>\n",
              "<style scoped>\n",
              "    .dataframe tbody tr th:only-of-type {\n",
              "        vertical-align: middle;\n",
              "    }\n",
              "\n",
              "    .dataframe tbody tr th {\n",
              "        vertical-align: top;\n",
              "    }\n",
              "\n",
              "    .dataframe thead th {\n",
              "        text-align: right;\n",
              "    }\n",
              "</style>\n",
              "<table border=\"1\" class=\"dataframe\">\n",
              "  <thead>\n",
              "    <tr style=\"text-align: right;\">\n",
              "      <th></th>\n",
              "      <th>Unnamed: 0.1</th>\n",
              "      <th>_id</th>\n",
              "      <th>text</th>\n",
              "      <th>task_1</th>\n",
              "      <th>task_2</th>\n",
              "      <th>text_clean</th>\n",
              "    </tr>\n",
              "  </thead>\n",
              "  <tbody>\n",
              "    <tr>\n",
              "      <th>0</th>\n",
              "      <td>4986</td>\n",
              "      <td>60c5d6bf5659ea5e55defa2c</td>\n",
              "      <td>@wealth if you made it through this &amp;amp;&amp;amp;...</td>\n",
              "      <td>0</td>\n",
              "      <td>PRFN</td>\n",
              "      <td>made amp amp onli abl start make money sustain...</td>\n",
              "    </tr>\n",
              "    <tr>\n",
              "      <th>1</th>\n",
              "      <td>3394</td>\n",
              "      <td>60c5d6bf5659ea5e55def461</td>\n",
              "      <td>Technically that's still turning back the cloc...</td>\n",
              "      <td>0</td>\n",
              "      <td>OFFN</td>\n",
              "      <td>technic still turn back clock dick head</td>\n",
              "    </tr>\n",
              "    <tr>\n",
              "      <th>2</th>\n",
              "      <td>1310</td>\n",
              "      <td>60c5d6bf5659ea5e55defaad</td>\n",
              "      <td>@VMBJP @BJP4Bengal @BJP4India @narendramodi @J...</td>\n",
              "      <td>1</td>\n",
              "      <td>NONE</td>\n",
              "      <td>govt stop think world media liber gang ani opt...</td>\n",
              "    </tr>\n",
              "    <tr>\n",
              "      <th>3</th>\n",
              "      <td>3390</td>\n",
              "      <td>60c5d6bf5659ea5e55def419</td>\n",
              "      <td>@krtoprak_yigit Soldier of Japan Who has dick ...</td>\n",
              "      <td>0</td>\n",
              "      <td>OFFN</td>\n",
              "      <td>soldier japan dick head</td>\n",
              "    </tr>\n",
              "    <tr>\n",
              "      <th>4</th>\n",
              "      <td>4626</td>\n",
              "      <td>60c5d6bf5659ea5e55def7fa</td>\n",
              "      <td>@blueheartedly You'd be better off asking who ...</td>\n",
              "      <td>0</td>\n",
              "      <td>OFFN</td>\n",
              "      <td>would better ask think sleazi shitbag lmao</td>\n",
              "    </tr>\n",
              "  </tbody>\n",
              "</table>\n",
              "</div>"
            ]
          },
          "metadata": {},
          "execution_count": 5
        }
      ],
      "metadata": {
        "colab": {
          "base_uri": "https://localhost:8080/",
          "height": 310
        },
        "id": "HZNHdwAszq8m",
        "outputId": "edf0d88b-9f16-41bb-91e5-2b559d5a2fb5"
      }
    },
    {
      "cell_type": "code",
      "execution_count": 6,
      "source": [
        "LE.fit(df['task_1'])\n",
        "classes= list(LE.classes_)\n",
        "classes"
      ],
      "outputs": [
        {
          "output_type": "execute_result",
          "data": {
            "text/plain": [
              "[0, 1]"
            ]
          },
          "metadata": {},
          "execution_count": 6
        }
      ],
      "metadata": {
        "colab": {
          "base_uri": "https://localhost:8080/"
        },
        "id": "NGsOHkui4iBO",
        "outputId": "09eb6f23-c77b-493a-bc35-3204c78cfc14"
      }
    },
    {
      "cell_type": "markdown",
      "source": [
        "## Splitting this dataset into three sets – train, validation, and test."
      ],
      "metadata": {
        "id": "bwmsNdF8tU9D"
      }
    },
    {
      "cell_type": "code",
      "execution_count": 7,
      "source": [
        "# split train dataset into train, validation and test sets\n",
        "train_text, temp_text, train_labels, temp_labels = train_test_split(df['text_clean'], df['task_1'], \n",
        "                                                                    random_state=42, \n",
        "                                                                    test_size=0.1)"
      ],
      "outputs": [],
      "metadata": {
        "id": "oecz95cvtCH9"
      }
    },
    {
      "cell_type": "code",
      "execution_count": 8,
      "source": [
        "X_train = train_text.tolist()\n",
        "X_test = temp_text.tolist()\n",
        "\n",
        "y_train = train_labels.tolist()\n",
        "y_test = temp_labels.tolist()"
      ],
      "outputs": [],
      "metadata": {
        "id": "PhTzAGcu2DH9"
      }
    },
    {
      "cell_type": "code",
      "execution_count": 9,
      "source": [
        "y_test[:10]"
      ],
      "outputs": [
        {
          "output_type": "execute_result",
          "data": {
            "text/plain": [
              "[0, 1, 1, 0, 0, 0, 1, 0, 1, 0]"
            ]
          },
          "metadata": {},
          "execution_count": 9
        }
      ],
      "metadata": {
        "colab": {
          "base_uri": "https://localhost:8080/"
        },
        "id": "Sms5u4DrPZOc",
        "outputId": "c9936cfe-2515-4b64-a94a-8555c709e6ac"
      }
    },
    {
      "cell_type": "markdown",
      "source": [
        "## Training the data and validating the model."
      ],
      "metadata": {
        "id": "mMoV1uS1DqwS"
      }
    },
    {
      "cell_type": "code",
      "execution_count": 13,
      "source": [
        "import ktrain\n",
        "from ktrain import text\n",
        "MODEL_NAME = 'distilbert-base-uncased'  # replace this with model of choice\n",
        "t = text.Transformer(MODEL_NAME, maxlen=500, class_names=classes)\n",
        "trn = t.preprocess_train(X_train, y_train)\n",
        "val = t.preprocess_test(X_test, y_test)\n",
        "model = t.get_classifier()\n",
        "learner = ktrain.get_learner(model, train_data=trn, val_data=val, batch_size=6)\n",
        "history = learner.fit_onecycle(5e-5,1)\n",
        "learner.validate(class_names=classes) # class_names must be string values"
      ],
      "outputs": [
        {
          "output_type": "stream",
          "name": "stdout",
          "text": [
            "preprocessing train...\n",
            "language: en\n",
            "train sequence lengths:\n",
            "\tmean : 14\n",
            "\t95percentile : 27\n",
            "\t99percentile : 31\n"
          ]
        },
        {
          "output_type": "display_data",
          "data": {
            "text/plain": [
              "<IPython.core.display.HTML object>"
            ],
            "text/html": []
          },
          "metadata": {}
        },
        {
          "output_type": "stream",
          "name": "stdout",
          "text": [
            "Is Multi-Label? False\n",
            "preprocessing test...\n",
            "language: en\n",
            "test sequence lengths:\n",
            "\tmean : 14\n",
            "\t95percentile : 27\n",
            "\t99percentile : 31\n"
          ]
        },
        {
          "output_type": "display_data",
          "data": {
            "text/plain": [
              "<IPython.core.display.HTML object>"
            ],
            "text/html": []
          },
          "metadata": {}
        },
        {
          "output_type": "stream",
          "name": "stdout",
          "text": [
            "\n",
            "\n",
            "begin training using onecycle policy with max lr of 5e-05...\n"
          ]
        },
        {
          "output_type": "stream",
          "name": "stderr",
          "text": [
            "Downloading:  16%|█▌        | 73.7k/466k [2:04:13<11:01:00, 9.89B/s]\n"
          ]
        },
        {
          "output_type": "stream",
          "name": "stdout",
          "text": [
            "576/576 [==============================] - 7943s 14s/step - loss: 0.5404 - accuracy: 0.7466 - val_loss: 0.4615 - val_accuracy: 0.7786\n",
            "              precision    recall  f1-score   support\n",
            "\n",
            "           0       0.81      0.88      0.84       263\n",
            "           1       0.68      0.56      0.62       121\n",
            "\n",
            "    accuracy                           0.78       384\n",
            "   macro avg       0.75      0.72      0.73       384\n",
            "weighted avg       0.77      0.78      0.77       384\n",
            "\n"
          ]
        },
        {
          "output_type": "execute_result",
          "data": {
            "text/plain": [
              "array([[231,  32],\n",
              "       [ 53,  68]])"
            ]
          },
          "metadata": {},
          "execution_count": 13
        }
      ],
      "metadata": {
        "id": "1AYZ7Zwz99RH"
      }
    },
    {
      "cell_type": "code",
      "execution_count": 14,
      "source": [
        "# list all data in history\n",
        "print(history.history.keys())"
      ],
      "outputs": [
        {
          "output_type": "stream",
          "name": "stdout",
          "text": [
            "dict_keys(['loss', 'accuracy', 'val_loss', 'val_accuracy', 'lr', 'iterations', 'momentum'])\n"
          ]
        }
      ],
      "metadata": {
        "colab": {
          "base_uri": "https://localhost:8080/"
        },
        "id": "-OdAS8ygJhoF",
        "outputId": "5c179078-f1c1-4aa8-f15b-8dba89b0c783"
      }
    },
    {
      "cell_type": "code",
      "execution_count": null,
      "source": [
        "# summarize history for accuracy\n",
        "plt.plot(history.history['accuracy'])\n",
        "plt.plot(history.history['val_accuracy'])\n",
        "plt.title('model accuracy')\n",
        "plt.ylabel('accuracy')\n",
        "plt.xlabel('epoch')\n",
        "plt.legend(['train', 'test'], loc='upper left')\n",
        "plt.show()\n",
        "# summarize history for loss\n",
        "plt.plot(history.history['loss'])\n",
        "plt.plot(history.history['val_loss'])\n",
        "plt.title('model loss')\n",
        "plt.ylabel('loss')\n",
        "plt.xlabel('epoch')\n",
        "plt.legend(['train', 'test'], loc='upper left')\n",
        "plt.show()"
      ],
      "outputs": [],
      "metadata": {
        "colab": {
          "base_uri": "https://localhost:8080/",
          "height": 573
        },
        "id": "e__Os3tFK4yh",
        "outputId": "42bad569-59e3-45aa-9134-d06e093ed87a"
      }
    },
    {
      "cell_type": "code",
      "execution_count": 16,
      "source": [
        "learner.view_top_losses(n=1, preproc=t)"
      ],
      "outputs": [
        {
          "output_type": "stream",
          "name": "stdout",
          "text": [
            "----------\n",
            "id:346 | loss:3.25 | true:1 | pred:0)\n",
            "\n"
          ]
        }
      ],
      "metadata": {
        "colab": {
          "base_uri": "https://localhost:8080/"
        },
        "id": "7MQHwThrNMVO",
        "outputId": "8824f163-e0a3-4381-c1eb-fae3d6403700"
      }
    },
    {
      "cell_type": "code",
      "execution_count": null,
      "source": [
        "print(X_test[221],y_test[221])"
      ],
      "outputs": [],
      "metadata": {
        "colab": {
          "base_uri": "https://localhost:8080/"
        },
        "id": "HiRA8mIcNOFR",
        "outputId": "b61eaf51-abb5-4893-b335-5fd6d326308a"
      }
    },
    {
      "cell_type": "code",
      "execution_count": null,
      "source": [
        "predictor = ktrain.get_predictor(learner.model, preproc=t)"
      ],
      "outputs": [],
      "metadata": {
        "id": "cm6Ms4fDNeJd"
      }
    },
    {
      "cell_type": "code",
      "execution_count": 19,
      "source": [
        "predictor.save('bert_A')"
      ],
      "outputs": [],
      "metadata": {
        "id": "aBvvYGatO0gS"
      }
    },
    {
      "cell_type": "code",
      "execution_count": 3,
      "source": [
        "reloaded_predictor = ktrain.load_predictor('bert_A')"
      ],
      "outputs": [],
      "metadata": {
        "id": "FB95GrPHQxPp",
        "colab": {
          "base_uri": "https://localhost:8080/",
          "height": 1000
        },
        "outputId": "243199d1-fb83-4e38-96dd-957caf0a22a6"
      }
    },
    {
      "cell_type": "code",
      "execution_count": 23,
      "source": [
        "reloaded_predictor.predict(\"neutral\"),reloaded_predictor.predict(\"i dont love u bjp\")"
      ],
      "outputs": [
        {
          "output_type": "execute_result",
          "data": {
            "text/plain": [
              "(1, 0)"
            ]
          },
          "metadata": {},
          "execution_count": 23
        }
      ],
      "metadata": {
        "colab": {
          "base_uri": "https://localhost:8080/"
        },
        "id": "JfTOSx7VR3u8",
        "outputId": "3bbb5a19-7266-4724-af7d-6e2cb7c23acc"
      }
    },
    {
      "cell_type": "code",
      "execution_count": 59,
      "source": [
        "df_ans = pd.read_csv(\"preprocess_test_data.csv\",index_col=0)\n",
        "df_ans['text_clean'] = df_ans['text_clean'].fillna('neutral')\n",
        "df_ans.head()"
      ],
      "outputs": [
        {
          "output_type": "execute_result",
          "data": {
            "text/plain": [
              "                        _id  \\\n",
              "0  60c5d6bf5659ea5e55deffcb   \n",
              "1  60c5d6bf5659ea5e55df028c   \n",
              "2  60c5d6bf5659ea5e55def377   \n",
              "3  60c5d6bf5659ea5e55def4c7   \n",
              "4  60c5d6bf5659ea5e55df01a6   \n",
              "\n",
              "                                                text  \\\n",
              "0  Fewer people coming in for vaccinations. So sa...   \n",
              "1  @MattHancock This may all be true. But... What...   \n",
              "2          @Layla_EFC I’ve unfollowed him the wanker   \n",
              "3  You guys are losing it all over the world. The...   \n",
              "4  And thus death laughs... It is sad merriment, ...   \n",
              "\n",
              "                                          text_clean  \n",
              "0  fewer peopl come vaccin sad nurs covidvaccin vumc  \n",
              "1                              may true piss big dom  \n",
              "2                                    unfollow wanker  \n",
              "3             guy lose world jung label islamophobia  \n",
              "4  thus death laugh sad merriment still covid ind...  "
            ],
            "text/html": [
              "<div>\n",
              "<style scoped>\n",
              "    .dataframe tbody tr th:only-of-type {\n",
              "        vertical-align: middle;\n",
              "    }\n",
              "\n",
              "    .dataframe tbody tr th {\n",
              "        vertical-align: top;\n",
              "    }\n",
              "\n",
              "    .dataframe thead th {\n",
              "        text-align: right;\n",
              "    }\n",
              "</style>\n",
              "<table border=\"1\" class=\"dataframe\">\n",
              "  <thead>\n",
              "    <tr style=\"text-align: right;\">\n",
              "      <th></th>\n",
              "      <th>_id</th>\n",
              "      <th>text</th>\n",
              "      <th>text_clean</th>\n",
              "    </tr>\n",
              "  </thead>\n",
              "  <tbody>\n",
              "    <tr>\n",
              "      <th>0</th>\n",
              "      <td>60c5d6bf5659ea5e55deffcb</td>\n",
              "      <td>Fewer people coming in for vaccinations. So sa...</td>\n",
              "      <td>fewer peopl come vaccin sad nurs covidvaccin vumc</td>\n",
              "    </tr>\n",
              "    <tr>\n",
              "      <th>1</th>\n",
              "      <td>60c5d6bf5659ea5e55df028c</td>\n",
              "      <td>@MattHancock This may all be true. But... What...</td>\n",
              "      <td>may true piss big dom</td>\n",
              "    </tr>\n",
              "    <tr>\n",
              "      <th>2</th>\n",
              "      <td>60c5d6bf5659ea5e55def377</td>\n",
              "      <td>@Layla_EFC I’ve unfollowed him the wanker</td>\n",
              "      <td>unfollow wanker</td>\n",
              "    </tr>\n",
              "    <tr>\n",
              "      <th>3</th>\n",
              "      <td>60c5d6bf5659ea5e55def4c7</td>\n",
              "      <td>You guys are losing it all over the world. The...</td>\n",
              "      <td>guy lose world jung label islamophobia</td>\n",
              "    </tr>\n",
              "    <tr>\n",
              "      <th>4</th>\n",
              "      <td>60c5d6bf5659ea5e55df01a6</td>\n",
              "      <td>And thus death laughs... It is sad merriment, ...</td>\n",
              "      <td>thus death laugh sad merriment still covid ind...</td>\n",
              "    </tr>\n",
              "  </tbody>\n",
              "</table>\n",
              "</div>"
            ]
          },
          "metadata": {},
          "execution_count": 59
        }
      ],
      "metadata": {}
    },
    {
      "cell_type": "code",
      "execution_count": 45,
      "source": [
        "df_ans.iloc[448]"
      ],
      "outputs": [
        {
          "output_type": "execute_result",
          "data": {
            "text/plain": [
              "_id           60c5d6bf5659ea5e55df021f\n",
              "text                    @bunniewails 🐀\n",
              "text_clean                     neutral\n",
              "Name: 448, dtype: object"
            ]
          },
          "metadata": {},
          "execution_count": 45
        }
      ],
      "metadata": {}
    },
    {
      "cell_type": "code",
      "execution_count": null,
      "source": [
        "label = []\n",
        "i = 0\n",
        "for tweet in df_ans['text_clean'].tolist():\n",
        "    ans = reloaded_predictor.predict(tweet)\n",
        "    i += 1\n",
        "    print(i,len(tweet))\n",
        "    if (ans == 0):\n",
        "        label.append('HOF')\n",
        "    else:\n",
        "        label.append('NOT')"
      ],
      "outputs": [],
      "metadata": {}
    },
    {
      "cell_type": "code",
      "execution_count": 61,
      "source": [
        "df_ans['label'] = pd.Series(label)\n",
        "df_ans.head(20)"
      ],
      "outputs": [
        {
          "output_type": "execute_result",
          "data": {
            "text/plain": [
              "                         _id  \\\n",
              "0   60c5d6bf5659ea5e55deffcb   \n",
              "1   60c5d6bf5659ea5e55df028c   \n",
              "2   60c5d6bf5659ea5e55def377   \n",
              "3   60c5d6bf5659ea5e55def4c7   \n",
              "4   60c5d6bf5659ea5e55df01a6   \n",
              "5   60c5d6bf5659ea5e55def837   \n",
              "6   60c5d6bf5659ea5e55def6ec   \n",
              "7   60c5d6bf5659ea5e55def29e   \n",
              "8   60c5d6bf5659ea5e55defa01   \n",
              "9   60c5d6bf5659ea5e55def464   \n",
              "10  60c5d6bf5659ea5e55df020f   \n",
              "11  60c5d6bf5659ea5e55defb48   \n",
              "12  60c5d6bf5659ea5e55def1a8   \n",
              "13  60c5d6bf5659ea5e55defc80   \n",
              "14  60c5d6bf5659ea5e55defc3e   \n",
              "15  60c5d6bf5659ea5e55def2e2   \n",
              "16  60c5d6bf5659ea5e55defbd6   \n",
              "17  60c5d6bf5659ea5e55defc41   \n",
              "18  60c5d6bf5659ea5e55df0176   \n",
              "19  60c5d6bf5659ea5e55df027b   \n",
              "\n",
              "                                                 text  \\\n",
              "0   Fewer people coming in for vaccinations. So sa...   \n",
              "1   @MattHancock This may all be true. But... What...   \n",
              "2           @Layla_EFC I’ve unfollowed him the wanker   \n",
              "3   You guys are losing it all over the world. The...   \n",
              "4   And thus death laughs... It is sad merriment, ...   \n",
              "5   Oh shooooot. IPL has been suspended 😱  #Cricke...   \n",
              "6             Fuck y’all lmao https://t.co/n9SX9ThxRv   \n",
              "7   @narendramodi you are the one to blame for the...   \n",
              "8   dont ask me to cook anything aside from poultr...   \n",
              "9   \"The world suffers a lot. Not because of the v...   \n",
              "10  @Gymshark Well shit, this might make me a Gay ...   \n",
              "11  Old lions in the wild lay down and die with di...   \n",
              "12  He fails India, he fails the world, he fails h...   \n",
              "13  Kangana did a terrible mistake of pointing the...   \n",
              "14  One thing which epitomise the level of incompe...   \n",
              "15                                               shag   \n",
              "16  @Manpreet22390 @simran7673 Helping India Breat...   \n",
              "17  Modi Govt never has any plan before execution,...   \n",
              "18  Can we pray for India 🇮🇳. The codvid situation...   \n",
              "19  Look the seriousness of BJP... Nation is dying...   \n",
              "\n",
              "                                           text_clean label  \n",
              "0   fewer peopl come vaccin sad nurs covidvaccin vumc   NOT  \n",
              "1                               may true piss big dom   HOF  \n",
              "2                                     unfollow wanker   HOF  \n",
              "3              guy lose world jung label islamophobia   NOT  \n",
              "4   thus death laugh sad merriment still covid ind...   NOT  \n",
              "5     oh shooooot ipl suspend cricket indiacovidcrisi   NOT  \n",
              "6                                           fuck lmao   HOF  \n",
              "7   one blame mess india vision solut pr puppet tu...   NOT  \n",
              "8             dont ask cook anyth asid poultri though   HOF  \n",
              "9   world suffer lot becaus violenc bad peopl beca...   NOT  \n",
              "10                well shit might make gay gym hooker   HOF  \n",
              "11  old lion wild lay die digniti hunt anymor gove...   HOF  \n",
              "12  fail india fail world fail human vinashakvista...   HOF  \n",
              "13  kangana terribl mistak point mistak suprem lea...   HOF  \n",
              "14  one thing epitomis level incompet delhi amp ce...   HOF  \n",
              "15                                               shag   HOF  \n",
              "16  help india breath grave concern modi govt let ...   HOF  \n",
              "17  modi govt never ani plan befor execut good spr...   HOF  \n",
              "18   pray india codvid situat terribl indiacovidcrisi   NOT  \n",
              "19  look serious bjp nation die covid go dharna en...   HOF  "
            ],
            "text/html": [
              "<div>\n",
              "<style scoped>\n",
              "    .dataframe tbody tr th:only-of-type {\n",
              "        vertical-align: middle;\n",
              "    }\n",
              "\n",
              "    .dataframe tbody tr th {\n",
              "        vertical-align: top;\n",
              "    }\n",
              "\n",
              "    .dataframe thead th {\n",
              "        text-align: right;\n",
              "    }\n",
              "</style>\n",
              "<table border=\"1\" class=\"dataframe\">\n",
              "  <thead>\n",
              "    <tr style=\"text-align: right;\">\n",
              "      <th></th>\n",
              "      <th>_id</th>\n",
              "      <th>text</th>\n",
              "      <th>text_clean</th>\n",
              "      <th>label</th>\n",
              "    </tr>\n",
              "  </thead>\n",
              "  <tbody>\n",
              "    <tr>\n",
              "      <th>0</th>\n",
              "      <td>60c5d6bf5659ea5e55deffcb</td>\n",
              "      <td>Fewer people coming in for vaccinations. So sa...</td>\n",
              "      <td>fewer peopl come vaccin sad nurs covidvaccin vumc</td>\n",
              "      <td>NOT</td>\n",
              "    </tr>\n",
              "    <tr>\n",
              "      <th>1</th>\n",
              "      <td>60c5d6bf5659ea5e55df028c</td>\n",
              "      <td>@MattHancock This may all be true. But... What...</td>\n",
              "      <td>may true piss big dom</td>\n",
              "      <td>HOF</td>\n",
              "    </tr>\n",
              "    <tr>\n",
              "      <th>2</th>\n",
              "      <td>60c5d6bf5659ea5e55def377</td>\n",
              "      <td>@Layla_EFC I’ve unfollowed him the wanker</td>\n",
              "      <td>unfollow wanker</td>\n",
              "      <td>HOF</td>\n",
              "    </tr>\n",
              "    <tr>\n",
              "      <th>3</th>\n",
              "      <td>60c5d6bf5659ea5e55def4c7</td>\n",
              "      <td>You guys are losing it all over the world. The...</td>\n",
              "      <td>guy lose world jung label islamophobia</td>\n",
              "      <td>NOT</td>\n",
              "    </tr>\n",
              "    <tr>\n",
              "      <th>4</th>\n",
              "      <td>60c5d6bf5659ea5e55df01a6</td>\n",
              "      <td>And thus death laughs... It is sad merriment, ...</td>\n",
              "      <td>thus death laugh sad merriment still covid ind...</td>\n",
              "      <td>NOT</td>\n",
              "    </tr>\n",
              "    <tr>\n",
              "      <th>5</th>\n",
              "      <td>60c5d6bf5659ea5e55def837</td>\n",
              "      <td>Oh shooooot. IPL has been suspended 😱  #Cricke...</td>\n",
              "      <td>oh shooooot ipl suspend cricket indiacovidcrisi</td>\n",
              "      <td>NOT</td>\n",
              "    </tr>\n",
              "    <tr>\n",
              "      <th>6</th>\n",
              "      <td>60c5d6bf5659ea5e55def6ec</td>\n",
              "      <td>Fuck y’all lmao https://t.co/n9SX9ThxRv</td>\n",
              "      <td>fuck lmao</td>\n",
              "      <td>HOF</td>\n",
              "    </tr>\n",
              "    <tr>\n",
              "      <th>7</th>\n",
              "      <td>60c5d6bf5659ea5e55def29e</td>\n",
              "      <td>@narendramodi you are the one to blame for the...</td>\n",
              "      <td>one blame mess india vision solut pr puppet tu...</td>\n",
              "      <td>NOT</td>\n",
              "    </tr>\n",
              "    <tr>\n",
              "      <th>8</th>\n",
              "      <td>60c5d6bf5659ea5e55defa01</td>\n",
              "      <td>dont ask me to cook anything aside from poultr...</td>\n",
              "      <td>dont ask cook anyth asid poultri though</td>\n",
              "      <td>HOF</td>\n",
              "    </tr>\n",
              "    <tr>\n",
              "      <th>9</th>\n",
              "      <td>60c5d6bf5659ea5e55def464</td>\n",
              "      <td>\"The world suffers a lot. Not because of the v...</td>\n",
              "      <td>world suffer lot becaus violenc bad peopl beca...</td>\n",
              "      <td>NOT</td>\n",
              "    </tr>\n",
              "    <tr>\n",
              "      <th>10</th>\n",
              "      <td>60c5d6bf5659ea5e55df020f</td>\n",
              "      <td>@Gymshark Well shit, this might make me a Gay ...</td>\n",
              "      <td>well shit might make gay gym hooker</td>\n",
              "      <td>HOF</td>\n",
              "    </tr>\n",
              "    <tr>\n",
              "      <th>11</th>\n",
              "      <td>60c5d6bf5659ea5e55defb48</td>\n",
              "      <td>Old lions in the wild lay down and die with di...</td>\n",
              "      <td>old lion wild lay die digniti hunt anymor gove...</td>\n",
              "      <td>HOF</td>\n",
              "    </tr>\n",
              "    <tr>\n",
              "      <th>12</th>\n",
              "      <td>60c5d6bf5659ea5e55def1a8</td>\n",
              "      <td>He fails India, he fails the world, he fails h...</td>\n",
              "      <td>fail india fail world fail human vinashakvista...</td>\n",
              "      <td>HOF</td>\n",
              "    </tr>\n",
              "    <tr>\n",
              "      <th>13</th>\n",
              "      <td>60c5d6bf5659ea5e55defc80</td>\n",
              "      <td>Kangana did a terrible mistake of pointing the...</td>\n",
              "      <td>kangana terribl mistak point mistak suprem lea...</td>\n",
              "      <td>HOF</td>\n",
              "    </tr>\n",
              "    <tr>\n",
              "      <th>14</th>\n",
              "      <td>60c5d6bf5659ea5e55defc3e</td>\n",
              "      <td>One thing which epitomise the level of incompe...</td>\n",
              "      <td>one thing epitomis level incompet delhi amp ce...</td>\n",
              "      <td>HOF</td>\n",
              "    </tr>\n",
              "    <tr>\n",
              "      <th>15</th>\n",
              "      <td>60c5d6bf5659ea5e55def2e2</td>\n",
              "      <td>shag</td>\n",
              "      <td>shag</td>\n",
              "      <td>HOF</td>\n",
              "    </tr>\n",
              "    <tr>\n",
              "      <th>16</th>\n",
              "      <td>60c5d6bf5659ea5e55defbd6</td>\n",
              "      <td>@Manpreet22390 @simran7673 Helping India Breat...</td>\n",
              "      <td>help india breath grave concern modi govt let ...</td>\n",
              "      <td>HOF</td>\n",
              "    </tr>\n",
              "    <tr>\n",
              "      <th>17</th>\n",
              "      <td>60c5d6bf5659ea5e55defc41</td>\n",
              "      <td>Modi Govt never has any plan before execution,...</td>\n",
              "      <td>modi govt never ani plan befor execut good spr...</td>\n",
              "      <td>HOF</td>\n",
              "    </tr>\n",
              "    <tr>\n",
              "      <th>18</th>\n",
              "      <td>60c5d6bf5659ea5e55df0176</td>\n",
              "      <td>Can we pray for India 🇮🇳. The codvid situation...</td>\n",
              "      <td>pray india codvid situat terribl indiacovidcrisi</td>\n",
              "      <td>NOT</td>\n",
              "    </tr>\n",
              "    <tr>\n",
              "      <th>19</th>\n",
              "      <td>60c5d6bf5659ea5e55df027b</td>\n",
              "      <td>Look the seriousness of BJP... Nation is dying...</td>\n",
              "      <td>look serious bjp nation die covid go dharna en...</td>\n",
              "      <td>HOF</td>\n",
              "    </tr>\n",
              "  </tbody>\n",
              "</table>\n",
              "</div>"
            ]
          },
          "metadata": {},
          "execution_count": 61
        }
      ],
      "metadata": {}
    },
    {
      "cell_type": "code",
      "execution_count": 62,
      "source": [
        "df_ans = df_ans.drop(['text','text_clean'],axis=1)\n",
        "df_ans = df_ans.reset_index()\n",
        "df_ans = df_ans.drop(['index'],axis=1)\n",
        "df_ans.head()"
      ],
      "outputs": [
        {
          "output_type": "execute_result",
          "data": {
            "text/plain": [
              "                        _id label\n",
              "0  60c5d6bf5659ea5e55deffcb   NOT\n",
              "1  60c5d6bf5659ea5e55df028c   HOF\n",
              "2  60c5d6bf5659ea5e55def377   HOF\n",
              "3  60c5d6bf5659ea5e55def4c7   NOT\n",
              "4  60c5d6bf5659ea5e55df01a6   NOT"
            ],
            "text/html": [
              "<div>\n",
              "<style scoped>\n",
              "    .dataframe tbody tr th:only-of-type {\n",
              "        vertical-align: middle;\n",
              "    }\n",
              "\n",
              "    .dataframe tbody tr th {\n",
              "        vertical-align: top;\n",
              "    }\n",
              "\n",
              "    .dataframe thead th {\n",
              "        text-align: right;\n",
              "    }\n",
              "</style>\n",
              "<table border=\"1\" class=\"dataframe\">\n",
              "  <thead>\n",
              "    <tr style=\"text-align: right;\">\n",
              "      <th></th>\n",
              "      <th>_id</th>\n",
              "      <th>label</th>\n",
              "    </tr>\n",
              "  </thead>\n",
              "  <tbody>\n",
              "    <tr>\n",
              "      <th>0</th>\n",
              "      <td>60c5d6bf5659ea5e55deffcb</td>\n",
              "      <td>NOT</td>\n",
              "    </tr>\n",
              "    <tr>\n",
              "      <th>1</th>\n",
              "      <td>60c5d6bf5659ea5e55df028c</td>\n",
              "      <td>HOF</td>\n",
              "    </tr>\n",
              "    <tr>\n",
              "      <th>2</th>\n",
              "      <td>60c5d6bf5659ea5e55def377</td>\n",
              "      <td>HOF</td>\n",
              "    </tr>\n",
              "    <tr>\n",
              "      <th>3</th>\n",
              "      <td>60c5d6bf5659ea5e55def4c7</td>\n",
              "      <td>NOT</td>\n",
              "    </tr>\n",
              "    <tr>\n",
              "      <th>4</th>\n",
              "      <td>60c5d6bf5659ea5e55df01a6</td>\n",
              "      <td>NOT</td>\n",
              "    </tr>\n",
              "  </tbody>\n",
              "</table>\n",
              "</div>"
            ]
          },
          "metadata": {},
          "execution_count": 62
        }
      ],
      "metadata": {}
    },
    {
      "cell_type": "code",
      "execution_count": 60,
      "source": [
        "df_ans.head()"
      ],
      "outputs": [
        {
          "output_type": "execute_result",
          "data": {
            "text/plain": [
              "                        _id  \\\n",
              "0  60c5d6bf5659ea5e55deffcb   \n",
              "1  60c5d6bf5659ea5e55df028c   \n",
              "2  60c5d6bf5659ea5e55def377   \n",
              "3  60c5d6bf5659ea5e55def4c7   \n",
              "4  60c5d6bf5659ea5e55df01a6   \n",
              "\n",
              "                                                text  \\\n",
              "0  Fewer people coming in for vaccinations. So sa...   \n",
              "1  @MattHancock This may all be true. But... What...   \n",
              "2          @Layla_EFC I’ve unfollowed him the wanker   \n",
              "3  You guys are losing it all over the world. The...   \n",
              "4  And thus death laughs... It is sad merriment, ...   \n",
              "\n",
              "                                          text_clean  \n",
              "0  fewer peopl come vaccin sad nurs covidvaccin vumc  \n",
              "1                              may true piss big dom  \n",
              "2                                    unfollow wanker  \n",
              "3             guy lose world jung label islamophobia  \n",
              "4  thus death laugh sad merriment still covid ind...  "
            ],
            "text/html": [
              "<div>\n",
              "<style scoped>\n",
              "    .dataframe tbody tr th:only-of-type {\n",
              "        vertical-align: middle;\n",
              "    }\n",
              "\n",
              "    .dataframe tbody tr th {\n",
              "        vertical-align: top;\n",
              "    }\n",
              "\n",
              "    .dataframe thead th {\n",
              "        text-align: right;\n",
              "    }\n",
              "</style>\n",
              "<table border=\"1\" class=\"dataframe\">\n",
              "  <thead>\n",
              "    <tr style=\"text-align: right;\">\n",
              "      <th></th>\n",
              "      <th>_id</th>\n",
              "      <th>text</th>\n",
              "      <th>text_clean</th>\n",
              "    </tr>\n",
              "  </thead>\n",
              "  <tbody>\n",
              "    <tr>\n",
              "      <th>0</th>\n",
              "      <td>60c5d6bf5659ea5e55deffcb</td>\n",
              "      <td>Fewer people coming in for vaccinations. So sa...</td>\n",
              "      <td>fewer peopl come vaccin sad nurs covidvaccin vumc</td>\n",
              "    </tr>\n",
              "    <tr>\n",
              "      <th>1</th>\n",
              "      <td>60c5d6bf5659ea5e55df028c</td>\n",
              "      <td>@MattHancock This may all be true. But... What...</td>\n",
              "      <td>may true piss big dom</td>\n",
              "    </tr>\n",
              "    <tr>\n",
              "      <th>2</th>\n",
              "      <td>60c5d6bf5659ea5e55def377</td>\n",
              "      <td>@Layla_EFC I’ve unfollowed him the wanker</td>\n",
              "      <td>unfollow wanker</td>\n",
              "    </tr>\n",
              "    <tr>\n",
              "      <th>3</th>\n",
              "      <td>60c5d6bf5659ea5e55def4c7</td>\n",
              "      <td>You guys are losing it all over the world. The...</td>\n",
              "      <td>guy lose world jung label islamophobia</td>\n",
              "    </tr>\n",
              "    <tr>\n",
              "      <th>4</th>\n",
              "      <td>60c5d6bf5659ea5e55df01a6</td>\n",
              "      <td>And thus death laughs... It is sad merriment, ...</td>\n",
              "      <td>thus death laugh sad merriment still covid ind...</td>\n",
              "    </tr>\n",
              "  </tbody>\n",
              "</table>\n",
              "</div>"
            ]
          },
          "metadata": {},
          "execution_count": 60
        }
      ],
      "metadata": {}
    },
    {
      "cell_type": "code",
      "execution_count": 63,
      "source": [
        "df_ans.to_csv('BERT_A.csv',index=False)"
      ],
      "outputs": [],
      "metadata": {}
    }
  ]
}