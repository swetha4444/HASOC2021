{
  "nbformat": 4,
  "nbformat_minor": 2,
  "metadata": {
    "colab": {
      "name": "BERT_B.ipynb",
      "provenance": []
    },
    "kernelspec": {
      "name": "python3",
      "display_name": "Python 3.9.6 64-bit"
    },
    "language_info": {
      "name": "python",
      "version": "3.9.6",
      "mimetype": "text/x-python",
      "codemirror_mode": {
        "name": "ipython",
        "version": 3
      },
      "pygments_lexer": "ipython3",
      "nbconvert_exporter": "python",
      "file_extension": ".py"
    },
    "interpreter": {
      "hash": "aee8b7b246df8f9039afb4144a1f6fd8d2ca17a180786b69acc140d282b71a49"
    }
  },
  "cells": [
    {
      "cell_type": "code",
      "execution_count": 5,
      "source": [
        "import pandas as pd\n",
        "import numpy as np\n",
        "import matplotlib.pyplot as plt\n",
        "\n",
        "from keras.preprocessing.text import Tokenizer\n",
        "from sklearn.model_selection import train_test_split\n",
        "from nltk.stem import WordNetLemmatizer\n",
        "from nltk import word_tokenize\n",
        "import nltk\n",
        "import os\n",
        "import collections\n",
        "import re\n",
        "import string\n",
        "\n",
        "import preprocessor as p\n",
        "import ktrain\n",
        "from ktrain import text\n",
        "import nltk\n",
        "from sklearn.preprocessing import LabelEncoder\n"
      ],
      "outputs": [],
      "metadata": {
        "id": "86BDG_rup-c5"
      }
    },
    {
      "cell_type": "code",
      "execution_count": 6,
      "source": [
        "df = pd.read_csv(\"preprocess_data.csv\",index_col=0)\n",
        "df= df.dropna()\n",
        "df.head()"
      ],
      "outputs": [
        {
          "output_type": "execute_result",
          "data": {
            "text/plain": [
              "   Unnamed: 0.1                       _id  \\\n",
              "0          4986  60c5d6bf5659ea5e55defa2c   \n",
              "1          3394  60c5d6bf5659ea5e55def461   \n",
              "2          1310  60c5d6bf5659ea5e55defaad   \n",
              "3          3390  60c5d6bf5659ea5e55def419   \n",
              "4          4626  60c5d6bf5659ea5e55def7fa   \n",
              "\n",
              "                                                text task_1 task_2  \\\n",
              "0  @wealth if you made it through this &amp;&amp;...    HOF   PRFN   \n",
              "1  Technically that's still turning back the cloc...    HOF   OFFN   \n",
              "2  @VMBJP @BJP4Bengal @BJP4India @narendramodi @J...    NOT   NONE   \n",
              "3  @krtoprak_yigit Soldier of Japan Who has dick ...    HOF   OFFN   \n",
              "4  @blueheartedly You'd be better off asking who ...    HOF   OFFN   \n",
              "\n",
              "                                          text_clean  \n",
              "0  made amp amp onli abl start make money sustain...  \n",
              "1            technic still turn back clock dick head  \n",
              "2  govt stop think world media liber gang ani opt...  \n",
              "3                            soldier japan dick head  \n",
              "4         would better ask think sleazi shitbag lmao  "
            ],
            "text/html": [
              "<div>\n",
              "<style scoped>\n",
              "    .dataframe tbody tr th:only-of-type {\n",
              "        vertical-align: middle;\n",
              "    }\n",
              "\n",
              "    .dataframe tbody tr th {\n",
              "        vertical-align: top;\n",
              "    }\n",
              "\n",
              "    .dataframe thead th {\n",
              "        text-align: right;\n",
              "    }\n",
              "</style>\n",
              "<table border=\"1\" class=\"dataframe\">\n",
              "  <thead>\n",
              "    <tr style=\"text-align: right;\">\n",
              "      <th></th>\n",
              "      <th>Unnamed: 0.1</th>\n",
              "      <th>_id</th>\n",
              "      <th>text</th>\n",
              "      <th>task_1</th>\n",
              "      <th>task_2</th>\n",
              "      <th>text_clean</th>\n",
              "    </tr>\n",
              "  </thead>\n",
              "  <tbody>\n",
              "    <tr>\n",
              "      <th>0</th>\n",
              "      <td>4986</td>\n",
              "      <td>60c5d6bf5659ea5e55defa2c</td>\n",
              "      <td>@wealth if you made it through this &amp;amp;&amp;amp;...</td>\n",
              "      <td>HOF</td>\n",
              "      <td>PRFN</td>\n",
              "      <td>made amp amp onli abl start make money sustain...</td>\n",
              "    </tr>\n",
              "    <tr>\n",
              "      <th>1</th>\n",
              "      <td>3394</td>\n",
              "      <td>60c5d6bf5659ea5e55def461</td>\n",
              "      <td>Technically that's still turning back the cloc...</td>\n",
              "      <td>HOF</td>\n",
              "      <td>OFFN</td>\n",
              "      <td>technic still turn back clock dick head</td>\n",
              "    </tr>\n",
              "    <tr>\n",
              "      <th>2</th>\n",
              "      <td>1310</td>\n",
              "      <td>60c5d6bf5659ea5e55defaad</td>\n",
              "      <td>@VMBJP @BJP4Bengal @BJP4India @narendramodi @J...</td>\n",
              "      <td>NOT</td>\n",
              "      <td>NONE</td>\n",
              "      <td>govt stop think world media liber gang ani opt...</td>\n",
              "    </tr>\n",
              "    <tr>\n",
              "      <th>3</th>\n",
              "      <td>3390</td>\n",
              "      <td>60c5d6bf5659ea5e55def419</td>\n",
              "      <td>@krtoprak_yigit Soldier of Japan Who has dick ...</td>\n",
              "      <td>HOF</td>\n",
              "      <td>OFFN</td>\n",
              "      <td>soldier japan dick head</td>\n",
              "    </tr>\n",
              "    <tr>\n",
              "      <th>4</th>\n",
              "      <td>4626</td>\n",
              "      <td>60c5d6bf5659ea5e55def7fa</td>\n",
              "      <td>@blueheartedly You'd be better off asking who ...</td>\n",
              "      <td>HOF</td>\n",
              "      <td>OFFN</td>\n",
              "      <td>would better ask think sleazi shitbag lmao</td>\n",
              "    </tr>\n",
              "  </tbody>\n",
              "</table>\n",
              "</div>"
            ]
          },
          "metadata": {},
          "execution_count": 6
        }
      ],
      "metadata": {
        "colab": {
          "base_uri": "https://localhost:8080/",
          "height": 310
        },
        "id": "XZdcBF-Uq3A-",
        "outputId": "839a32d8-30ea-4238-9b1a-a6bb824034b5"
      }
    },
    {
      "cell_type": "code",
      "execution_count": 7,
      "source": [
        "LE = LabelEncoder()\n",
        "LE.fit(df['task_2'])\n",
        "classes= list(LE.classes_)\n",
        "classes"
      ],
      "outputs": [
        {
          "output_type": "execute_result",
          "data": {
            "text/plain": [
              "['HATE', 'NONE', 'OFFN', 'PRFN']"
            ]
          },
          "metadata": {},
          "execution_count": 7
        }
      ],
      "metadata": {
        "colab": {
          "base_uri": "https://localhost:8080/"
        },
        "id": "QAjZmDOPrYmP",
        "outputId": "e3a195d5-57d6-427a-ea51-1465f913f709"
      }
    },
    {
      "cell_type": "code",
      "execution_count": 8,
      "source": [
        "df['task_2'] = LE.fit_transform(df['task_2'])\n",
        "task1_params = dict(zip(LE.classes_, LE.transform(LE.classes_)))\n",
        "df.head()"
      ],
      "outputs": [
        {
          "output_type": "execute_result",
          "data": {
            "text/plain": [
              "   Unnamed: 0.1                       _id  \\\n",
              "0          4986  60c5d6bf5659ea5e55defa2c   \n",
              "1          3394  60c5d6bf5659ea5e55def461   \n",
              "2          1310  60c5d6bf5659ea5e55defaad   \n",
              "3          3390  60c5d6bf5659ea5e55def419   \n",
              "4          4626  60c5d6bf5659ea5e55def7fa   \n",
              "\n",
              "                                                text task_1  task_2  \\\n",
              "0  @wealth if you made it through this &amp;&amp;...    HOF       3   \n",
              "1  Technically that's still turning back the cloc...    HOF       2   \n",
              "2  @VMBJP @BJP4Bengal @BJP4India @narendramodi @J...    NOT       1   \n",
              "3  @krtoprak_yigit Soldier of Japan Who has dick ...    HOF       2   \n",
              "4  @blueheartedly You'd be better off asking who ...    HOF       2   \n",
              "\n",
              "                                          text_clean  \n",
              "0  made amp amp onli abl start make money sustain...  \n",
              "1            technic still turn back clock dick head  \n",
              "2  govt stop think world media liber gang ani opt...  \n",
              "3                            soldier japan dick head  \n",
              "4         would better ask think sleazi shitbag lmao  "
            ],
            "text/html": [
              "<div>\n",
              "<style scoped>\n",
              "    .dataframe tbody tr th:only-of-type {\n",
              "        vertical-align: middle;\n",
              "    }\n",
              "\n",
              "    .dataframe tbody tr th {\n",
              "        vertical-align: top;\n",
              "    }\n",
              "\n",
              "    .dataframe thead th {\n",
              "        text-align: right;\n",
              "    }\n",
              "</style>\n",
              "<table border=\"1\" class=\"dataframe\">\n",
              "  <thead>\n",
              "    <tr style=\"text-align: right;\">\n",
              "      <th></th>\n",
              "      <th>Unnamed: 0.1</th>\n",
              "      <th>_id</th>\n",
              "      <th>text</th>\n",
              "      <th>task_1</th>\n",
              "      <th>task_2</th>\n",
              "      <th>text_clean</th>\n",
              "    </tr>\n",
              "  </thead>\n",
              "  <tbody>\n",
              "    <tr>\n",
              "      <th>0</th>\n",
              "      <td>4986</td>\n",
              "      <td>60c5d6bf5659ea5e55defa2c</td>\n",
              "      <td>@wealth if you made it through this &amp;amp;&amp;amp;...</td>\n",
              "      <td>HOF</td>\n",
              "      <td>3</td>\n",
              "      <td>made amp amp onli abl start make money sustain...</td>\n",
              "    </tr>\n",
              "    <tr>\n",
              "      <th>1</th>\n",
              "      <td>3394</td>\n",
              "      <td>60c5d6bf5659ea5e55def461</td>\n",
              "      <td>Technically that's still turning back the cloc...</td>\n",
              "      <td>HOF</td>\n",
              "      <td>2</td>\n",
              "      <td>technic still turn back clock dick head</td>\n",
              "    </tr>\n",
              "    <tr>\n",
              "      <th>2</th>\n",
              "      <td>1310</td>\n",
              "      <td>60c5d6bf5659ea5e55defaad</td>\n",
              "      <td>@VMBJP @BJP4Bengal @BJP4India @narendramodi @J...</td>\n",
              "      <td>NOT</td>\n",
              "      <td>1</td>\n",
              "      <td>govt stop think world media liber gang ani opt...</td>\n",
              "    </tr>\n",
              "    <tr>\n",
              "      <th>3</th>\n",
              "      <td>3390</td>\n",
              "      <td>60c5d6bf5659ea5e55def419</td>\n",
              "      <td>@krtoprak_yigit Soldier of Japan Who has dick ...</td>\n",
              "      <td>HOF</td>\n",
              "      <td>2</td>\n",
              "      <td>soldier japan dick head</td>\n",
              "    </tr>\n",
              "    <tr>\n",
              "      <th>4</th>\n",
              "      <td>4626</td>\n",
              "      <td>60c5d6bf5659ea5e55def7fa</td>\n",
              "      <td>@blueheartedly You'd be better off asking who ...</td>\n",
              "      <td>HOF</td>\n",
              "      <td>2</td>\n",
              "      <td>would better ask think sleazi shitbag lmao</td>\n",
              "    </tr>\n",
              "  </tbody>\n",
              "</table>\n",
              "</div>"
            ]
          },
          "metadata": {},
          "execution_count": 8
        }
      ],
      "metadata": {
        "colab": {
          "base_uri": "https://localhost:8080/",
          "height": 310
        },
        "id": "Jg0Gvva0rG78",
        "outputId": "7157f7a5-30ec-42ec-d621-cb3c456f7c41"
      }
    },
    {
      "cell_type": "code",
      "execution_count": 9,
      "source": [
        "LE.fit(df['task_2'])\n",
        "classes= list(LE.classes_)\n",
        "classes"
      ],
      "outputs": [
        {
          "output_type": "execute_result",
          "data": {
            "text/plain": [
              "[0, 1, 2, 3]"
            ]
          },
          "metadata": {},
          "execution_count": 9
        }
      ],
      "metadata": {
        "colab": {
          "base_uri": "https://localhost:8080/"
        },
        "id": "XCTInWPrrMlK",
        "outputId": "c4e75740-fa9f-4889-aeb8-6d7bcf5672bf"
      }
    },
    {
      "cell_type": "code",
      "execution_count": 10,
      "source": [
        "# split train dataset into train, validation and test sets\n",
        "train_text, temp_text, train_labels, temp_labels = train_test_split(df['text_clean'], df['task_2'], \n",
        "                                                                    random_state=42, \n",
        "                                                                    test_size=0.1)"
      ],
      "outputs": [],
      "metadata": {
        "id": "ADXmoUjNreuP"
      }
    },
    {
      "cell_type": "code",
      "execution_count": 11,
      "source": [
        "X_train = train_text.tolist()\n",
        "X_test = temp_text.tolist()\n",
        "\n",
        "y_train = train_labels.tolist()\n",
        "y_test = temp_labels.tolist()"
      ],
      "outputs": [],
      "metadata": {
        "id": "tp9RrOF6rjUN"
      }
    },
    {
      "cell_type": "code",
      "execution_count": 12,
      "source": [
        "import ktrain\n",
        "from ktrain import text\n",
        "MODEL_NAME = 'distilbert-base-uncased'  # replace this with model of choice\n",
        "t = text.Transformer(MODEL_NAME, maxlen=500, class_names=classes)\n",
        "trn = t.preprocess_train(X_train, y_train)\n",
        "val = t.preprocess_test(X_test, y_test)\n",
        "model = t.get_classifier()\n",
        "learner = ktrain.get_learner(model, train_data=trn, val_data=val, batch_size=6)\n",
        "history = learner.fit_onecycle(5e-5, 2)\n",
        "learner.validate(class_names=classes) # class_names must be string values"
      ],
      "outputs": [
        {
          "output_type": "stream",
          "name": "stdout",
          "text": [
            "preprocessing train...\n",
            "language: en\n",
            "train sequence lengths:\n",
            "\tmean : 14\n",
            "\t95percentile : 27\n",
            "\t99percentile : 31\n"
          ]
        },
        {
          "output_type": "display_data",
          "data": {
            "text/plain": [
              "<IPython.core.display.HTML object>"
            ],
            "text/html": []
          },
          "metadata": {}
        },
        {
          "output_type": "stream",
          "name": "stdout",
          "text": [
            "Is Multi-Label? False\n",
            "preprocessing test...\n",
            "language: en\n",
            "test sequence lengths:\n",
            "\tmean : 14\n",
            "\t95percentile : 27\n",
            "\t99percentile : 31\n"
          ]
        },
        {
          "output_type": "display_data",
          "data": {
            "text/plain": [
              "<IPython.core.display.HTML object>"
            ],
            "text/html": []
          },
          "metadata": {}
        },
        {
          "output_type": "stream",
          "name": "stdout",
          "text": [
            "\n",
            "\n",
            "begin training using onecycle policy with max lr of 5e-05...\n",
            "Epoch 1/2\n",
            "576/576 [==============================] - 10238s 18s/step - loss: 1.0421 - accuracy: 0.5601 - val_loss: 0.9838 - val_accuracy: 0.5938\n",
            "Epoch 2/2\n",
            "576/576 [==============================] - 12057s 21s/step - loss: 0.8326 - accuracy: 0.6612 - val_loss: 0.9446 - val_accuracy: 0.6094\n",
            "              precision    recall  f1-score   support\n",
            "\n",
            "           0       0.41      0.54      0.46        67\n",
            "           1       0.63      0.64      0.64       121\n",
            "           2       0.41      0.13      0.20        68\n",
            "           3       0.74      0.87      0.80       128\n",
            "\n",
            "    accuracy                           0.61       384\n",
            "   macro avg       0.55      0.55      0.52       384\n",
            "weighted avg       0.59      0.61      0.58       384\n",
            "\n"
          ]
        },
        {
          "output_type": "execute_result",
          "data": {
            "text/plain": [
              "array([[ 36,  19,   8,   4],\n",
              "       [ 25,  78,   4,  14],\n",
              "       [ 23,  14,   9,  22],\n",
              "       [  4,  12,   1, 111]])"
            ]
          },
          "metadata": {},
          "execution_count": 12
        }
      ],
      "metadata": {
        "colab": {
          "background_save": true,
          "base_uri": "https://localhost:8080/",
          "height": 384
        },
        "id": "BOrstaiHrqv7",
        "outputId": "09a91af4-de7d-4ee9-c8cc-b9bedd8c41a1"
      }
    },
    {
      "cell_type": "code",
      "execution_count": 13,
      "source": [
        "# list all data in history\n",
        "print(history.history.keys())"
      ],
      "outputs": [
        {
          "output_type": "stream",
          "name": "stdout",
          "text": [
            "dict_keys(['loss', 'accuracy', 'val_loss', 'val_accuracy', 'lr', 'iterations', 'momentum'])\n"
          ]
        }
      ],
      "metadata": {
        "colab": {
          "base_uri": "https://localhost:8080/"
        },
        "id": "wbPoyO9Ttl7l",
        "outputId": "f0cfda00-6aa4-4c75-f43a-8820e230fbc5"
      }
    },
    {
      "cell_type": "code",
      "execution_count": 14,
      "source": [
        "# summarize history for accuracy\n",
        "plt.plot(history.history['accuracy'])\n",
        "plt.plot(history.history['val_accuracy'])\n",
        "plt.title('model accuracy')\n",
        "plt.ylabel('accuracy')\n",
        "plt.xlabel('epoch')\n",
        "plt.legend(['train', 'test'], loc='upper left')\n",
        "plt.show()\n",
        "# summarize history for loss\n",
        "plt.plot(history.history['loss'])\n",
        "plt.plot(history.history['val_loss'])\n",
        "plt.title('model loss')\n",
        "plt.ylabel('loss')\n",
        "plt.xlabel('epoch')\n",
        "plt.legend(['train', 'test'], loc='upper left')\n",
        "plt.show()"
      ],
      "outputs": [
        {
          "output_type": "display_data",
          "data": {
            "text/plain": [
              "<Figure size 432x288 with 1 Axes>"
            ],
            "image/png": "[encoded data removed]"
          },
          "metadata": {
            "needs_background": "light"
          }
        },
        {
          "output_type": "display_data",
          "data": {
            "text/plain": [
              "<Figure size 432x288 with 1 Axes>"
            ],
            "image/png": "[encoded data removed]"
          },
          "metadata": {
            "needs_background": "light"
          }
        }
      ],
      "metadata": {}
    },
    {
      "cell_type": "code",
      "execution_count": 15,
      "source": [
        "learner.view_top_losses(n=1, preproc=t)"
      ],
      "outputs": [
        {
          "output_type": "stream",
          "name": "stdout",
          "text": [
            "----------\n",
            "id:107 | loss:4.68 | true:0 | pred:3)\n",
            "\n"
          ]
        }
      ],
      "metadata": {}
    },
    {
      "cell_type": "code",
      "execution_count": 16,
      "source": [
        "predictor = ktrain.get_predictor(learner.model, preproc=t)"
      ],
      "outputs": [],
      "metadata": {}
    },
    {
      "cell_type": "code",
      "execution_count": 17,
      "source": [
        "predictor.save('bert_B')"
      ],
      "outputs": [],
      "metadata": {}
    },
    {
      "cell_type": "code",
      "execution_count": 18,
      "source": [
        "reloaded_predictor = ktrain.load_predictor('bert_B')"
      ],
      "outputs": [],
      "metadata": {}
    },
    {
      "cell_type": "code",
      "execution_count": 19,
      "source": [
        "df_ans = pd.read_csv(\"preprocess_test_data.csv\",index_col=0)\n",
        "df_ans['text_clean'] = df_ans['text_clean'].fillna('neutral')\n",
        "df_ans.head()"
      ],
      "outputs": [
        {
          "output_type": "execute_result",
          "data": {
            "text/plain": [
              "                        _id  \\\n",
              "0  60c5d6bf5659ea5e55deffcb   \n",
              "1  60c5d6bf5659ea5e55df028c   \n",
              "2  60c5d6bf5659ea5e55def377   \n",
              "3  60c5d6bf5659ea5e55def4c7   \n",
              "4  60c5d6bf5659ea5e55df01a6   \n",
              "\n",
              "                                                text  \\\n",
              "0  Fewer people coming in for vaccinations. So sa...   \n",
              "1  @MattHancock This may all be true. But... What...   \n",
              "2          @Layla_EFC I’ve unfollowed him the wanker   \n",
              "3  You guys are losing it all over the world. The...   \n",
              "4  And thus death laughs... It is sad merriment, ...   \n",
              "\n",
              "                                          text_clean  \n",
              "0  fewer peopl come vaccin sad nurs covidvaccin vumc  \n",
              "1                              may true piss big dom  \n",
              "2                                    unfollow wanker  \n",
              "3             guy lose world jung label islamophobia  \n",
              "4  thus death laugh sad merriment still covid ind...  "
            ],
            "text/html": [
              "<div>\n",
              "<style scoped>\n",
              "    .dataframe tbody tr th:only-of-type {\n",
              "        vertical-align: middle;\n",
              "    }\n",
              "\n",
              "    .dataframe tbody tr th {\n",
              "        vertical-align: top;\n",
              "    }\n",
              "\n",
              "    .dataframe thead th {\n",
              "        text-align: right;\n",
              "    }\n",
              "</style>\n",
              "<table border=\"1\" class=\"dataframe\">\n",
              "  <thead>\n",
              "    <tr style=\"text-align: right;\">\n",
              "      <th></th>\n",
              "      <th>_id</th>\n",
              "      <th>text</th>\n",
              "      <th>text_clean</th>\n",
              "    </tr>\n",
              "  </thead>\n",
              "  <tbody>\n",
              "    <tr>\n",
              "      <th>0</th>\n",
              "      <td>60c5d6bf5659ea5e55deffcb</td>\n",
              "      <td>Fewer people coming in for vaccinations. So sa...</td>\n",
              "      <td>fewer peopl come vaccin sad nurs covidvaccin vumc</td>\n",
              "    </tr>\n",
              "    <tr>\n",
              "      <th>1</th>\n",
              "      <td>60c5d6bf5659ea5e55df028c</td>\n",
              "      <td>@MattHancock This may all be true. But... What...</td>\n",
              "      <td>may true piss big dom</td>\n",
              "    </tr>\n",
              "    <tr>\n",
              "      <th>2</th>\n",
              "      <td>60c5d6bf5659ea5e55def377</td>\n",
              "      <td>@Layla_EFC I’ve unfollowed him the wanker</td>\n",
              "      <td>unfollow wanker</td>\n",
              "    </tr>\n",
              "    <tr>\n",
              "      <th>3</th>\n",
              "      <td>60c5d6bf5659ea5e55def4c7</td>\n",
              "      <td>You guys are losing it all over the world. The...</td>\n",
              "      <td>guy lose world jung label islamophobia</td>\n",
              "    </tr>\n",
              "    <tr>\n",
              "      <th>4</th>\n",
              "      <td>60c5d6bf5659ea5e55df01a6</td>\n",
              "      <td>And thus death laughs... It is sad merriment, ...</td>\n",
              "      <td>thus death laugh sad merriment still covid ind...</td>\n",
              "    </tr>\n",
              "  </tbody>\n",
              "</table>\n",
              "</div>"
            ]
          },
          "metadata": {},
          "execution_count": 19
        }
      ],
      "metadata": {}
    },
    {
      "cell_type": "code",
      "execution_count": null,
      "source": [
        "label = []\n",
        "i = 0\n",
        "for tweet in df_ans['text_clean'].tolist():\n",
        "    ans = reloaded_predictor.predict(tweet)\n",
        "    i += 1\n",
        "    print(i,len(tweet))\n",
        "    if (ans == 0):\n",
        "        label.append('HATE')\n",
        "    elif (ans == 1):\n",
        "        label.append('NONE')\n",
        "    elif (ans == 2):\n",
        "        label.append('OFFN')\n",
        "    elif (ans == 3):\n",
        "        label.append('PRFN')"
      ],
      "outputs": [],
      "metadata": {}
    },
    {
      "cell_type": "code",
      "execution_count": null,
      "source": [
        "df_ans['label'] = pd.Series(label)\n",
        "df_ans.head(20)"
      ],
      "outputs": [],
      "metadata": {}
    },
    {
      "cell_type": "code",
      "execution_count": null,
      "source": [
        "df_ans = df_ans.drop(['text','text_clean'],axis=1)\n",
        "df_ans = df_ans.reset_index()\n",
        "df_ans = df_ans.drop(['index'],axis=1)\n",
        "df_ans.head()"
      ],
      "outputs": [],
      "metadata": {}
    },
    {
      "cell_type": "code",
      "execution_count": null,
      "source": [
        "df_ans.to_csv('BERT_B.csv',index=False)"
      ],
      "outputs": [],
      "metadata": {}
    }
  ]
}