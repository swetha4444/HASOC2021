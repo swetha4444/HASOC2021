{
  "nbformat": 4,
  "nbformat_minor": 0,
  "metadata": {
    "colab": {
      "name": "Profanity_Check",
      "provenance": []
    },
    "kernelspec": {
      "name": "python3",
      "display_name": "Python 3"
    },
    "language_info": {
      "name": "python"
    }
  },
  "cells": [
    {
      "cell_type": "code",
      "metadata": {
        "id": "mbfZBrow3yhV"
      },
      "source": [
        "pip install profanity-check"
      ],
      "execution_count": null,
      "outputs": []
    },
    {
      "cell_type": "code",
      "metadata": {
        "id": "AV3MhR_68YQN"
      },
      "source": [
        "pip install profanityfilter"
      ],
      "execution_count": null,
      "outputs": []
    },
    {
      "cell_type": "code",
      "metadata": {
        "id": "613utSE-F1ty"
      },
      "source": [
        "pip install cuss_inspect"
      ],
      "execution_count": null,
      "outputs": []
    },
    {
      "cell_type": "code",
      "metadata": {
        "id": "yroPbac2I6qI"
      },
      "source": [
        "pip install better-profanity"
      ],
      "execution_count": null,
      "outputs": []
    },
    {
      "cell_type": "code",
      "metadata": {
        "id": "bwcstWWJKhHQ"
      },
      "source": [
        ""
      ],
      "execution_count": null,
      "outputs": []
    },
    {
      "cell_type": "code",
      "metadata": {
        "id": "PV20Z8Z5Kg_D"
      },
      "source": [
        ""
      ],
      "execution_count": null,
      "outputs": []
    },
    {
      "cell_type": "code",
      "metadata": {
        "id": "PpOvFk9N318k"
      },
      "source": [
        "from profanity_check import predict,predict_prob"
      ],
      "execution_count": 46,
      "outputs": []
    },
    {
      "cell_type": "code",
      "metadata": {
        "id": "2Xto0-HK8cgP"
      },
      "source": [
        "from profanityfilter import ProfanityFilter\n",
        "pf = ProfanityFilter()"
      ],
      "execution_count": 14,
      "outputs": []
    },
    {
      "cell_type": "code",
      "metadata": {
        "id": "C7jEnJfYGRbf"
      },
      "source": [
        "from cuss_inspect import predict, predict_prob"
      ],
      "execution_count": null,
      "outputs": []
    },
    {
      "cell_type": "code",
      "metadata": {
        "id": "aB6YpkVBJACm"
      },
      "source": [
        "from better_profanity import profanity"
      ],
      "execution_count": 1,
      "outputs": []
    },
    {
      "cell_type": "code",
      "metadata": {
        "id": "zUqHMoNU5diH"
      },
      "source": [
        "import pandas as pd"
      ],
      "execution_count": 2,
      "outputs": []
    },
    {
      "cell_type": "code",
      "metadata": {
        "id": "b3p0E8Dx5XyK"
      },
      "source": [
        "dataframe = pd.read_csv('preprocess_data.csv')"
      ],
      "execution_count": 19,
      "outputs": []
    },
    {
      "cell_type": "code",
      "metadata": {
        "id": "JDogRYd45U5P"
      },
      "source": [
        "rslt_df = dataframe[dataframe['task_2'] == 'PRFN']"
      ],
      "execution_count": 20,
      "outputs": []
    },
    {
      "cell_type": "code",
      "metadata": {
        "colab": {
          "base_uri": "https://localhost:8080/"
        },
        "id": "NWg0xbCJ5UYE",
        "outputId": "6907b035-b0fe-4054-c402-83630d2f0c75"
      },
      "source": [
        "len(rslt_df)"
      ],
      "execution_count": 21,
      "outputs": [
        {
          "output_type": "execute_result",
          "data": {
            "text/plain": [
              "1196"
            ]
          },
          "metadata": {},
          "execution_count": 21
        }
      ]
    },
    {
      "cell_type": "code",
      "metadata": {
        "id": "mQAe_2xE5qSL"
      },
      "source": [
        "op = []\n",
        "for txt in rslt_df['text_clean'].tolist():\n",
        "  if(predict([txt])[0] == 1):\n",
        "    op.append('PRFN')\n",
        "  else:\n",
        "    op.append('NOT')"
      ],
      "execution_count": 54,
      "outputs": []
    },
    {
      "cell_type": "code",
      "metadata": {
        "id": "rW7uRUh38vjm"
      },
      "source": [
        "# Good\n",
        "op = []\n",
        "for txt in rslt_df['text_clean'].tolist():\n",
        "  if(pf.is_profane(txt) == True):\n",
        "    op.append('PRFN')\n",
        "  else:\n",
        "    op.append('NOT')"
      ],
      "execution_count": 12,
      "outputs": []
    },
    {
      "cell_type": "code",
      "metadata": {
        "id": "i66ZzqwOJGri"
      },
      "source": [
        "# Best\n",
        "op = []\n",
        "for txt in rslt_df['text_clean'].tolist():\n",
        "  if(profanity.contains_profanity(txt) == True):\n",
        "    op.append('PRFN')\n",
        "  else:\n",
        "    if(pf.is_profane(txt) == True):\n",
        "      op.append('PRFN')\n",
        "    else:\n",
        "      op.append('NOT')"
      ],
      "execution_count": 22,
      "outputs": []
    },
    {
      "cell_type": "code",
      "metadata": {
        "id": "13nVAF1I6Ily"
      },
      "source": [
        "y_true = rslt_df['task_2'].tolist()"
      ],
      "execution_count": 26,
      "outputs": []
    },
    {
      "cell_type": "code",
      "metadata": {
        "colab": {
          "base_uri": "https://localhost:8080/"
        },
        "id": "r4iJUNcJ6Wya",
        "outputId": "112ce37c-e110-40b2-9c0c-d84c51fa0714"
      },
      "source": [
        "from sklearn.metrics import confusion_matrix\n",
        "confusion_matrix(y_true, op)"
      ],
      "execution_count": 27,
      "outputs": [
        {
          "output_type": "execute_result",
          "data": {
            "text/plain": [
              "array([[   0,    0],\n",
              "       [  93, 1103]])"
            ]
          },
          "metadata": {},
          "execution_count": 27
        }
      ]
    },
    {
      "cell_type": "code",
      "metadata": {
        "colab": {
          "base_uri": "https://localhost:8080/"
        },
        "id": "osb6pV9s6jOj",
        "outputId": "75d39ead-868c-4ed7-fc4a-457636654021"
      },
      "source": [
        "from sklearn.metrics import accuracy_score\n",
        "accuracy_score(y_true, op)"
      ],
      "execution_count": 28,
      "outputs": [
        {
          "output_type": "execute_result",
          "data": {
            "text/plain": [
              "0.9222408026755853"
            ]
          },
          "metadata": {},
          "execution_count": 28
        }
      ]
    },
    {
      "cell_type": "code",
      "metadata": {
        "id": "Cg3jyGiK6tD7"
      },
      "source": [
        "i = 0\n",
        "x_task = rslt_df['task_2'].tolist()\n",
        "x_text = rslt_df['text_clean'].tolist()\n",
        "for i in range (len(rslt_df)):\n",
        "  if(x_task[i] != op[i]):\n",
        "    print(x_text[i],x_task[i],op[i])\n",
        "  i += 1"
      ],
      "execution_count": null,
      "outputs": []
    }
  ]
}