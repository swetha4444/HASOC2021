{
 "cells": [
  {
   "cell_type": "code",
   "execution_count": 1,
   "source": [
    "import pandas as pd\n",
    "import numpy as np\n",
    "import matplotlib.pyplot as plt\n",
    "\n",
    "from keras.preprocessing.text import Tokenizer\n",
    "from sklearn.model_selection import train_test_split\n",
    "from nltk.stem import WordNetLemmatizer\n",
    "from nltk import word_tokenize\n",
    "import nltk\n",
    "import os\n",
    "import collections\n",
    "import re\n",
    "import string\n",
    "\n",
    "import preprocessor as p\n",
    "import ktrain\n",
    "from ktrain import text\n",
    "import nltk\n",
    "from sklearn.preprocessing import LabelEncoder"
   ],
   "outputs": [],
   "metadata": {}
  },
  {
   "cell_type": "markdown",
   "source": [
    "## OFFN/HATE Predictor"
   ],
   "metadata": {}
  },
  {
   "cell_type": "code",
   "execution_count": 2,
   "source": [
    "df_full = pd.read_csv(\"../preprocess_data.csv\",index_col=0)\n",
    "df_full = df_full.dropna()\n",
    "df_full.head()"
   ],
   "outputs": [
    {
     "output_type": "execute_result",
     "data": {
      "text/plain": [
       "   Unnamed: 0.1                       _id  \\\n",
       "0          4986  60c5d6bf5659ea5e55defa2c   \n",
       "1          3394  60c5d6bf5659ea5e55def461   \n",
       "2          1310  60c5d6bf5659ea5e55defaad   \n",
       "3          3390  60c5d6bf5659ea5e55def419   \n",
       "4          4626  60c5d6bf5659ea5e55def7fa   \n",
       "\n",
       "                                                text task_1 task_2  \\\n",
       "0  @wealth if you made it through this &amp;&amp;...    HOF   PRFN   \n",
       "1  Technically that's still turning back the cloc...    HOF   OFFN   \n",
       "2  @VMBJP @BJP4Bengal @BJP4India @narendramodi @J...    NOT   NONE   \n",
       "3  @krtoprak_yigit Soldier of Japan Who has dick ...    HOF   OFFN   \n",
       "4  @blueheartedly You'd be better off asking who ...    HOF   OFFN   \n",
       "\n",
       "                                          text_clean  \n",
       "0  made amp amp onli abl start make money sustain...  \n",
       "1            technic still turn back clock dick head  \n",
       "2  govt stop think world media liber gang ani opt...  \n",
       "3                            soldier japan dick head  \n",
       "4         would better ask think sleazi shitbag lmao  "
      ],
      "text/html": [
       "<div>\n",
       "<style scoped>\n",
       "    .dataframe tbody tr th:only-of-type {\n",
       "        vertical-align: middle;\n",
       "    }\n",
       "\n",
       "    .dataframe tbody tr th {\n",
       "        vertical-align: top;\n",
       "    }\n",
       "\n",
       "    .dataframe thead th {\n",
       "        text-align: right;\n",
       "    }\n",
       "</style>\n",
       "<table border=\"1\" class=\"dataframe\">\n",
       "  <thead>\n",
       "    <tr style=\"text-align: right;\">\n",
       "      <th></th>\n",
       "      <th>Unnamed: 0.1</th>\n",
       "      <th>_id</th>\n",
       "      <th>text</th>\n",
       "      <th>task_1</th>\n",
       "      <th>task_2</th>\n",
       "      <th>text_clean</th>\n",
       "    </tr>\n",
       "  </thead>\n",
       "  <tbody>\n",
       "    <tr>\n",
       "      <th>0</th>\n",
       "      <td>4986</td>\n",
       "      <td>60c5d6bf5659ea5e55defa2c</td>\n",
       "      <td>@wealth if you made it through this &amp;amp;&amp;amp;...</td>\n",
       "      <td>HOF</td>\n",
       "      <td>PRFN</td>\n",
       "      <td>made amp amp onli abl start make money sustain...</td>\n",
       "    </tr>\n",
       "    <tr>\n",
       "      <th>1</th>\n",
       "      <td>3394</td>\n",
       "      <td>60c5d6bf5659ea5e55def461</td>\n",
       "      <td>Technically that's still turning back the cloc...</td>\n",
       "      <td>HOF</td>\n",
       "      <td>OFFN</td>\n",
       "      <td>technic still turn back clock dick head</td>\n",
       "    </tr>\n",
       "    <tr>\n",
       "      <th>2</th>\n",
       "      <td>1310</td>\n",
       "      <td>60c5d6bf5659ea5e55defaad</td>\n",
       "      <td>@VMBJP @BJP4Bengal @BJP4India @narendramodi @J...</td>\n",
       "      <td>NOT</td>\n",
       "      <td>NONE</td>\n",
       "      <td>govt stop think world media liber gang ani opt...</td>\n",
       "    </tr>\n",
       "    <tr>\n",
       "      <th>3</th>\n",
       "      <td>3390</td>\n",
       "      <td>60c5d6bf5659ea5e55def419</td>\n",
       "      <td>@krtoprak_yigit Soldier of Japan Who has dick ...</td>\n",
       "      <td>HOF</td>\n",
       "      <td>OFFN</td>\n",
       "      <td>soldier japan dick head</td>\n",
       "    </tr>\n",
       "    <tr>\n",
       "      <th>4</th>\n",
       "      <td>4626</td>\n",
       "      <td>60c5d6bf5659ea5e55def7fa</td>\n",
       "      <td>@blueheartedly You'd be better off asking who ...</td>\n",
       "      <td>HOF</td>\n",
       "      <td>OFFN</td>\n",
       "      <td>would better ask think sleazi shitbag lmao</td>\n",
       "    </tr>\n",
       "  </tbody>\n",
       "</table>\n",
       "</div>"
      ]
     },
     "metadata": {},
     "execution_count": 2
    }
   ],
   "metadata": {}
  },
  {
   "cell_type": "code",
   "execution_count": 15,
   "source": [
    "df = df_full[df_full['task_2'].isin(['OFFN','HATE'])]\n",
    "df.head()"
   ],
   "outputs": [
    {
     "output_type": "execute_result",
     "data": {
      "text/plain": [
       "    Unnamed: 0.1                       _id  \\\n",
       "1           3394  60c5d6bf5659ea5e55def461   \n",
       "3           3390  60c5d6bf5659ea5e55def419   \n",
       "4           4626  60c5d6bf5659ea5e55def7fa   \n",
       "8           3582  60c5d6bf5659ea5e55def54f   \n",
       "11           150  60c5d6bf5659ea5e55def132   \n",
       "\n",
       "                                                 text task_1 task_2  \\\n",
       "1   Technically that's still turning back the cloc...    HOF   OFFN   \n",
       "3   @krtoprak_yigit Soldier of Japan Who has dick ...    HOF   OFFN   \n",
       "4   @blueheartedly You'd be better off asking who ...    HOF   OFFN   \n",
       "8   @Chahal_Shekhar Sorry we won't, why can't your...    HOF   HATE   \n",
       "11  @narendramodi, you are #NotMyPrimeMinister any...    HOF   OFFN   \n",
       "\n",
       "                                           text_clean  \n",
       "1             technic still turn back clock dick head  \n",
       "3                             soldier japan dick head  \n",
       "4          would better ask think sleazi shitbag lmao  \n",
       "8   sorri wo whi rais voic thousand peopl die due ...  \n",
       "11  notmyprimeminist anymor egoist populist way pl...  "
      ],
      "text/html": [
       "<div>\n",
       "<style scoped>\n",
       "    .dataframe tbody tr th:only-of-type {\n",
       "        vertical-align: middle;\n",
       "    }\n",
       "\n",
       "    .dataframe tbody tr th {\n",
       "        vertical-align: top;\n",
       "    }\n",
       "\n",
       "    .dataframe thead th {\n",
       "        text-align: right;\n",
       "    }\n",
       "</style>\n",
       "<table border=\"1\" class=\"dataframe\">\n",
       "  <thead>\n",
       "    <tr style=\"text-align: right;\">\n",
       "      <th></th>\n",
       "      <th>Unnamed: 0.1</th>\n",
       "      <th>_id</th>\n",
       "      <th>text</th>\n",
       "      <th>task_1</th>\n",
       "      <th>task_2</th>\n",
       "      <th>text_clean</th>\n",
       "    </tr>\n",
       "  </thead>\n",
       "  <tbody>\n",
       "    <tr>\n",
       "      <th>1</th>\n",
       "      <td>3394</td>\n",
       "      <td>60c5d6bf5659ea5e55def461</td>\n",
       "      <td>Technically that's still turning back the cloc...</td>\n",
       "      <td>HOF</td>\n",
       "      <td>OFFN</td>\n",
       "      <td>technic still turn back clock dick head</td>\n",
       "    </tr>\n",
       "    <tr>\n",
       "      <th>3</th>\n",
       "      <td>3390</td>\n",
       "      <td>60c5d6bf5659ea5e55def419</td>\n",
       "      <td>@krtoprak_yigit Soldier of Japan Who has dick ...</td>\n",
       "      <td>HOF</td>\n",
       "      <td>OFFN</td>\n",
       "      <td>soldier japan dick head</td>\n",
       "    </tr>\n",
       "    <tr>\n",
       "      <th>4</th>\n",
       "      <td>4626</td>\n",
       "      <td>60c5d6bf5659ea5e55def7fa</td>\n",
       "      <td>@blueheartedly You'd be better off asking who ...</td>\n",
       "      <td>HOF</td>\n",
       "      <td>OFFN</td>\n",
       "      <td>would better ask think sleazi shitbag lmao</td>\n",
       "    </tr>\n",
       "    <tr>\n",
       "      <th>8</th>\n",
       "      <td>3582</td>\n",
       "      <td>60c5d6bf5659ea5e55def54f</td>\n",
       "      <td>@Chahal_Shekhar Sorry we won't, why can't your...</td>\n",
       "      <td>HOF</td>\n",
       "      <td>HATE</td>\n",
       "      <td>sorri wo whi rais voic thousand peopl die due ...</td>\n",
       "    </tr>\n",
       "    <tr>\n",
       "      <th>11</th>\n",
       "      <td>150</td>\n",
       "      <td>60c5d6bf5659ea5e55def132</td>\n",
       "      <td>@narendramodi, you are #NotMyPrimeMinister any...</td>\n",
       "      <td>HOF</td>\n",
       "      <td>OFFN</td>\n",
       "      <td>notmyprimeminist anymor egoist populist way pl...</td>\n",
       "    </tr>\n",
       "  </tbody>\n",
       "</table>\n",
       "</div>"
      ]
     },
     "metadata": {},
     "execution_count": 15
    }
   ],
   "metadata": {}
  },
  {
   "cell_type": "code",
   "execution_count": 16,
   "source": [
    "LE = LabelEncoder()\n",
    "LE.fit(df['task_2'])\n",
    "classes= list(LE.classes_)\n",
    "classes"
   ],
   "outputs": [
    {
     "output_type": "execute_result",
     "data": {
      "text/plain": [
       "['HATE', 'OFFN']"
      ]
     },
     "metadata": {},
     "execution_count": 16
    }
   ],
   "metadata": {}
  },
  {
   "cell_type": "code",
   "execution_count": 17,
   "source": [
    "df['task_2'] = LE.fit_transform(df['task_2'])\n",
    "task1_params = dict(zip(LE.classes_, LE.transform(LE.classes_)))\n",
    "df.head()"
   ],
   "outputs": [
    {
     "output_type": "stream",
     "name": "stderr",
     "text": [
      "/usr/local/lib/python3.9/site-packages/pandas/core/frame.py:3607: SettingWithCopyWarning: \n",
      "A value is trying to be set on a copy of a slice from a DataFrame.\n",
      "Try using .loc[row_indexer,col_indexer] = value instead\n",
      "\n",
      "See the caveats in the documentation: https://pandas.pydata.org/pandas-docs/stable/user_guide/indexing.html#returning-a-view-versus-a-copy\n",
      "  self._set_item(key, value)\n"
     ]
    },
    {
     "output_type": "execute_result",
     "data": {
      "text/plain": [
       "    Unnamed: 0.1                       _id  \\\n",
       "1           3394  60c5d6bf5659ea5e55def461   \n",
       "3           3390  60c5d6bf5659ea5e55def419   \n",
       "4           4626  60c5d6bf5659ea5e55def7fa   \n",
       "8           3582  60c5d6bf5659ea5e55def54f   \n",
       "11           150  60c5d6bf5659ea5e55def132   \n",
       "\n",
       "                                                 text task_1  task_2  \\\n",
       "1   Technically that's still turning back the cloc...    HOF       1   \n",
       "3   @krtoprak_yigit Soldier of Japan Who has dick ...    HOF       1   \n",
       "4   @blueheartedly You'd be better off asking who ...    HOF       1   \n",
       "8   @Chahal_Shekhar Sorry we won't, why can't your...    HOF       0   \n",
       "11  @narendramodi, you are #NotMyPrimeMinister any...    HOF       1   \n",
       "\n",
       "                                           text_clean  \n",
       "1             technic still turn back clock dick head  \n",
       "3                             soldier japan dick head  \n",
       "4          would better ask think sleazi shitbag lmao  \n",
       "8   sorri wo whi rais voic thousand peopl die due ...  \n",
       "11  notmyprimeminist anymor egoist populist way pl...  "
      ],
      "text/html": [
       "<div>\n",
       "<style scoped>\n",
       "    .dataframe tbody tr th:only-of-type {\n",
       "        vertical-align: middle;\n",
       "    }\n",
       "\n",
       "    .dataframe tbody tr th {\n",
       "        vertical-align: top;\n",
       "    }\n",
       "\n",
       "    .dataframe thead th {\n",
       "        text-align: right;\n",
       "    }\n",
       "</style>\n",
       "<table border=\"1\" class=\"dataframe\">\n",
       "  <thead>\n",
       "    <tr style=\"text-align: right;\">\n",
       "      <th></th>\n",
       "      <th>Unnamed: 0.1</th>\n",
       "      <th>_id</th>\n",
       "      <th>text</th>\n",
       "      <th>task_1</th>\n",
       "      <th>task_2</th>\n",
       "      <th>text_clean</th>\n",
       "    </tr>\n",
       "  </thead>\n",
       "  <tbody>\n",
       "    <tr>\n",
       "      <th>1</th>\n",
       "      <td>3394</td>\n",
       "      <td>60c5d6bf5659ea5e55def461</td>\n",
       "      <td>Technically that's still turning back the cloc...</td>\n",
       "      <td>HOF</td>\n",
       "      <td>1</td>\n",
       "      <td>technic still turn back clock dick head</td>\n",
       "    </tr>\n",
       "    <tr>\n",
       "      <th>3</th>\n",
       "      <td>3390</td>\n",
       "      <td>60c5d6bf5659ea5e55def419</td>\n",
       "      <td>@krtoprak_yigit Soldier of Japan Who has dick ...</td>\n",
       "      <td>HOF</td>\n",
       "      <td>1</td>\n",
       "      <td>soldier japan dick head</td>\n",
       "    </tr>\n",
       "    <tr>\n",
       "      <th>4</th>\n",
       "      <td>4626</td>\n",
       "      <td>60c5d6bf5659ea5e55def7fa</td>\n",
       "      <td>@blueheartedly You'd be better off asking who ...</td>\n",
       "      <td>HOF</td>\n",
       "      <td>1</td>\n",
       "      <td>would better ask think sleazi shitbag lmao</td>\n",
       "    </tr>\n",
       "    <tr>\n",
       "      <th>8</th>\n",
       "      <td>3582</td>\n",
       "      <td>60c5d6bf5659ea5e55def54f</td>\n",
       "      <td>@Chahal_Shekhar Sorry we won't, why can't your...</td>\n",
       "      <td>HOF</td>\n",
       "      <td>0</td>\n",
       "      <td>sorri wo whi rais voic thousand peopl die due ...</td>\n",
       "    </tr>\n",
       "    <tr>\n",
       "      <th>11</th>\n",
       "      <td>150</td>\n",
       "      <td>60c5d6bf5659ea5e55def132</td>\n",
       "      <td>@narendramodi, you are #NotMyPrimeMinister any...</td>\n",
       "      <td>HOF</td>\n",
       "      <td>1</td>\n",
       "      <td>notmyprimeminist anymor egoist populist way pl...</td>\n",
       "    </tr>\n",
       "  </tbody>\n",
       "</table>\n",
       "</div>"
      ]
     },
     "metadata": {},
     "execution_count": 17
    }
   ],
   "metadata": {}
  },
  {
   "cell_type": "code",
   "execution_count": 18,
   "source": [
    "LE.fit(df['task_2'])\n",
    "classes= list(LE.classes_)\n",
    "classes"
   ],
   "outputs": [
    {
     "output_type": "execute_result",
     "data": {
      "text/plain": [
       "[0, 1]"
      ]
     },
     "metadata": {},
     "execution_count": 18
    }
   ],
   "metadata": {}
  },
  {
   "cell_type": "code",
   "execution_count": 19,
   "source": [
    "# split train dataset into train, validation and test sets\n",
    "train_text, temp_text, train_labels, temp_labels = train_test_split(df['text_clean'], df['task_2'], \n",
    "                                                                    random_state=42, \n",
    "                                                                    test_size=0.1)"
   ],
   "outputs": [],
   "metadata": {}
  },
  {
   "cell_type": "code",
   "execution_count": 20,
   "source": [
    "X_train = train_text.tolist()\n",
    "X_test = temp_text.tolist()\n",
    "\n",
    "y_train = train_labels.tolist()\n",
    "y_test = temp_labels.tolist()"
   ],
   "outputs": [],
   "metadata": {}
  },
  {
   "cell_type": "code",
   "execution_count": 21,
   "source": [
    "len(X_test),len(X_train)"
   ],
   "outputs": [
    {
     "output_type": "execute_result",
     "data": {
      "text/plain": [
       "(131, 1174)"
      ]
     },
     "metadata": {},
     "execution_count": 21
    }
   ],
   "metadata": {}
  },
  {
   "cell_type": "code",
   "execution_count": 26,
   "source": [
    "import ktrain\n",
    "from ktrain import text\n",
    "MODEL_NAME = 'distilbert-base-uncased'  # replace this with model of choice\n",
    "t = text.Transformer(MODEL_NAME, maxlen=500, class_names=classes)\n",
    "trn = t.preprocess_train(X_train, y_train)\n",
    "val = t.preprocess_test(X_test, y_test)\n",
    "model = t.get_classifier()\n",
    "learner = ktrain.get_learner(model, train_data=trn, val_data=val, batch_size=6)\n",
    "history = learner.fit_onecycle(5e-5,2)\n",
    "learner.validate(class_names=classes) # class_names must be string values"
   ],
   "outputs": [
    {
     "output_type": "stream",
     "name": "stdout",
     "text": [
      "preprocessing train...\n",
      "language: en\n",
      "train sequence lengths:\n",
      "\tmean : 17\n",
      "\t95percentile : 28\n",
      "\t99percentile : 31\n"
     ]
    },
    {
     "output_type": "display_data",
     "data": {
      "text/plain": [
       "<IPython.core.display.HTML object>"
      ],
      "text/html": []
     },
     "metadata": {}
    },
    {
     "output_type": "stream",
     "name": "stdout",
     "text": [
      "Is Multi-Label? False\n",
      "preprocessing test...\n",
      "language: en\n",
      "test sequence lengths:\n",
      "\tmean : 16\n",
      "\t95percentile : 27\n",
      "\t99percentile : 29\n"
     ]
    },
    {
     "output_type": "display_data",
     "data": {
      "text/plain": [
       "<IPython.core.display.HTML object>"
      ],
      "text/html": []
     },
     "metadata": {}
    },
    {
     "output_type": "stream",
     "name": "stdout",
     "text": [
      "\n",
      "\n",
      "begin training using onecycle policy with max lr of 5e-05...\n",
      "196/196 [==============================] - 1456s 7s/step - loss: 0.6529 - accuracy: 0.6073 - val_loss: 0.5701 - val_accuracy: 0.7023\n",
      "              precision    recall  f1-score   support\n",
      "\n",
      "           0       0.65      0.94      0.77        68\n",
      "           1       0.88      0.44      0.59        63\n",
      "\n",
      "    accuracy                           0.70       131\n",
      "   macro avg       0.76      0.69      0.68       131\n",
      "weighted avg       0.76      0.70      0.68       131\n",
      "\n"
     ]
    },
    {
     "output_type": "execute_result",
     "data": {
      "text/plain": [
       "array([[64,  4],\n",
       "       [35, 28]])"
      ]
     },
     "metadata": {},
     "execution_count": 26
    }
   ],
   "metadata": {}
  },
  {
   "cell_type": "code",
   "execution_count": 31,
   "source": [
    "predictor = ktrain.get_predictor(learner.model, preproc=t)"
   ],
   "outputs": [],
   "metadata": {}
  },
  {
   "cell_type": "code",
   "execution_count": 32,
   "source": [
    "predictor.save('bert_OFFN_HATE')"
   ],
   "outputs": [],
   "metadata": {}
  },
  {
   "cell_type": "markdown",
   "source": [
    "## Data for validating Proposed Model"
   ],
   "metadata": {}
  },
  {
   "cell_type": "code",
   "execution_count": 4,
   "source": [
    "LE = LabelEncoder()\n",
    "LE.fit(df_full['task_2'])\n",
    "classes= list(LE.classes_)\n",
    "classes"
   ],
   "outputs": [
    {
     "output_type": "execute_result",
     "data": {
      "text/plain": [
       "['HATE', 'NONE', 'OFFN', 'PRFN']"
      ]
     },
     "metadata": {},
     "execution_count": 4
    }
   ],
   "metadata": {}
  },
  {
   "cell_type": "code",
   "execution_count": 5,
   "source": [
    "df_full['task_2'] = LE.fit_transform(df_full['task_2'])\n",
    "task1_params = dict(zip(LE.classes_, LE.transform(LE.classes_)))"
   ],
   "outputs": [],
   "metadata": {}
  },
  {
   "cell_type": "code",
   "execution_count": 6,
   "source": [
    "LE.fit(df_full['task_2'])\n",
    "classes= list(LE.classes_)\n",
    "classes"
   ],
   "outputs": [
    {
     "output_type": "execute_result",
     "data": {
      "text/plain": [
       "[0, 1, 2, 3]"
      ]
     },
     "metadata": {},
     "execution_count": 6
    }
   ],
   "metadata": {}
  },
  {
   "cell_type": "code",
   "execution_count": 11,
   "source": [
    "# split train dataset into train, validation and test sets\n",
    "train_text, temp_text, train_labels, temp_labels = train_test_split(df_full['text_clean'], df_full['task_2'], \n",
    "                                                                    random_state=42, \n",
    "                                                                    test_size=0.3)"
   ],
   "outputs": [],
   "metadata": {}
  },
  {
   "cell_type": "code",
   "execution_count": 12,
   "source": [
    "X_train = train_text.tolist()\n",
    "X_test = temp_text.tolist()\n",
    "\n",
    "y_train = train_labels.tolist()\n",
    "y_test = temp_labels.tolist()"
   ],
   "outputs": [],
   "metadata": {}
  },
  {
   "cell_type": "markdown",
   "source": [
    "## Step 1: HOF/NOT Prediction"
   ],
   "metadata": {}
  },
  {
   "cell_type": "code",
   "execution_count": 13,
   "source": [
    "reloaded_predictor_A = ktrain.load_predictor('bert_A')"
   ],
   "outputs": [],
   "metadata": {}
  },
  {
   "cell_type": "code",
   "execution_count": 15,
   "source": [
    "len(X_test),len(y_test)"
   ],
   "outputs": [
    {
     "output_type": "execute_result",
     "data": {
      "text/plain": [
       "(1152, 1152)"
      ]
     },
     "metadata": {},
     "execution_count": 15
    }
   ],
   "metadata": {}
  },
  {
   "cell_type": "code",
   "execution_count": 17,
   "source": [
    "label = []\n",
    "i = 0\n",
    "for tweet in X_test:\n",
    "    ans = reloaded_predictor_A.predict(tweet)\n",
    "    i += 1\n",
    "    #print(i,len(tweet))\n",
    "    if (ans == 0):\n",
    "        label.append('HOF')\n",
    "    else:\n",
    "        label.append('NOT')"
   ],
   "outputs": [
    {
     "output_type": "stream",
     "name": "stderr",
     "text": [
      "Exception ignored in: <function IteratorResourceDeleter.__del__ at 0x168d201f0>\n",
      "Traceback (most recent call last):\n",
      "  File \"/usr/local/lib/python3.9/site-packages/tensorflow/python/data/ops/iterator_ops.py\", line 545, in __del__\n",
      "    gen_dataset_ops.delete_iterator(\n",
      "  File \"/usr/local/lib/python3.9/site-packages/tensorflow/python/ops/gen_dataset_ops.py\", line 1263, in delete_iterator\n",
      "    _result = pywrap_tfe.TFE_Py_FastPathExecute(\n",
      "KeyboardInterrupt: \n"
     ]
    }
   ],
   "metadata": {}
  },
  {
   "cell_type": "code",
   "execution_count": null,
   "source": [
    "for i in range(10):\n",
    "    print(label[i],X_test[i])"
   ],
   "outputs": [
    {
     "output_type": "stream",
     "name": "stdout",
     "text": [
      "HOF woman get pretti high bodi count onli take one dick time virgin indic wisdom good head one shoulder doe correl invers woman bodi count\n",
      "NOT lost one belov teacher school covid19 last week littl tribut teacher influenc life rip sir miss teacherappreciationweek covidindia indiacovidcrisi\n",
      "NOT usa first ladi wife command chief uk first ladi command chief elizabeth ii carri antoinett mere latest shag probabl queen prime minist\n",
      "HOF look bastard toad dog conchetumar son donkey jerk go sing precis concis keep fuck go make levit leg slit cut webeo\n",
      "HOF bloodi high definit multimedia interfac bloodi well fuck understand got hell bitch\n",
      "HOF govern ca manag defeat vaccin oxygen foreign aid pandem right remain power resign pm modi save loss live\n",
      "NOT want covid19 giver help us ani way thank chinesevirus ccpvirus\n",
      "HOF alright fucker pqrted\n",
      "HOF grown dont know mani time announc fuck wan na fuck love wan na love wan na shut fuck talk\n",
      "HOF hmmmm bitch\n"
     ]
    }
   ],
   "metadata": {}
  },
  {
   "cell_type": "code",
   "execution_count": 52,
   "source": [
    "y_test[:10]"
   ],
   "outputs": [
    {
     "output_type": "execute_result",
     "data": {
      "text/plain": [
       "[3, 1, 1, 3, 3, 0, 1, 3, 1, 3]"
      ]
     },
     "metadata": {},
     "execution_count": 52
    }
   ],
   "metadata": {}
  },
  {
   "cell_type": "markdown",
   "source": [
    "## Step 2: Profanity Check"
   ],
   "metadata": {}
  },
  {
   "cell_type": "code",
   "execution_count": 18,
   "source": [
    "from profanityfilter import ProfanityFilter\n",
    "pf = ProfanityFilter()"
   ],
   "outputs": [],
   "metadata": {}
  },
  {
   "cell_type": "code",
   "execution_count": 19,
   "source": [
    "from better_profanity import profanity"
   ],
   "outputs": [],
   "metadata": {}
  },
  {
   "cell_type": "code",
   "execution_count": 23,
   "source": [
    "len(label),len(X_test),len(y_test)"
   ],
   "outputs": [
    {
     "output_type": "execute_result",
     "data": {
      "text/plain": [
       "(1152, 1152, 1152)"
      ]
     },
     "metadata": {},
     "execution_count": 23
    }
   ],
   "metadata": {}
  },
  {
   "cell_type": "code",
   "execution_count": 24,
   "source": [
    "op = []\n",
    "for i in range(len(X_test)):\n",
    "    # Not even HOT\n",
    "    if(label[i] == 'NOT'):\n",
    "        op.append('NONE')\n",
    "    else:\n",
    "        if(profanity.contains_profanity(X_test[i]) == True):\n",
    "            op.append('PRFN')\n",
    "        else:\n",
    "            if(pf.is_profane(X_test[i]) == True):\n",
    "                op.append('PRFN')\n",
    "            # Not PRNF but can be OFFN/HATE\n",
    "            else:\n",
    "                op.append('HOF')"
   ],
   "outputs": [],
   "metadata": {}
  },
  {
   "cell_type": "code",
   "execution_count": 25,
   "source": [
    "len(label),len(op),len(X_test),len(y_test)"
   ],
   "outputs": [
    {
     "output_type": "execute_result",
     "data": {
      "text/plain": [
       "(1152, 1152, 1152, 1152)"
      ]
     },
     "metadata": {},
     "execution_count": 25
    }
   ],
   "metadata": {}
  },
  {
   "cell_type": "markdown",
   "source": [
    "## Step 3: Predict OFFN/HATE"
   ],
   "metadata": {}
  },
  {
   "cell_type": "code",
   "execution_count": 27,
   "source": [
    "reloaded_predictor_OH = ktrain.load_predictor('bert_OFFN_HATE')"
   ],
   "outputs": [],
   "metadata": {}
  },
  {
   "cell_type": "code",
   "execution_count": 28,
   "source": [
    "for i in range(len(op)):\n",
    "    if (op[i] == 'HOF'):\n",
    "        ans = reloaded_predictor_OH.predict(X_test[i])\n",
    "        if (ans == 0):\n",
    "            op[i] = 'HATE'\n",
    "        else:\n",
    "            op[i] = 'OFFN'\n"
   ],
   "outputs": [],
   "metadata": {}
  },
  {
   "cell_type": "code",
   "execution_count": 29,
   "source": [
    "LE.fit(op)\n",
    "list(LE.classes_)"
   ],
   "outputs": [
    {
     "output_type": "execute_result",
     "data": {
      "text/plain": [
       "['HATE', 'NONE', 'OFFN', 'PRFN']"
      ]
     },
     "metadata": {},
     "execution_count": 29
    }
   ],
   "metadata": {}
  },
  {
   "cell_type": "code",
   "execution_count": 30,
   "source": [
    "op = LE.fit_transform(op)\n",
    "LE.fit(op)\n",
    "list(LE.classes_)"
   ],
   "outputs": [
    {
     "output_type": "execute_result",
     "data": {
      "text/plain": [
       "[0, 1, 2, 3]"
      ]
     },
     "metadata": {},
     "execution_count": 30
    }
   ],
   "metadata": {}
  },
  {
   "cell_type": "markdown",
   "source": [
    "## Check for accuracy"
   ],
   "metadata": {}
  },
  {
   "cell_type": "code",
   "execution_count": 32,
   "source": [
    "from sklearn.metrics import accuracy_score\n",
    "accuracy_score(y_test, op)"
   ],
   "outputs": [
    {
     "output_type": "execute_result",
     "data": {
      "text/plain": [
       "0.6345486111111112"
      ]
     },
     "metadata": {},
     "execution_count": 32
    }
   ],
   "metadata": {}
  }
 ],
 "metadata": {
  "orig_nbformat": 4,
  "language_info": {
   "name": "python",
   "version": "3.9.6",
   "mimetype": "text/x-python",
   "codemirror_mode": {
    "name": "ipython",
    "version": 3
   },
   "pygments_lexer": "ipython3",
   "nbconvert_exporter": "python",
   "file_extension": ".py"
  },
  "kernelspec": {
   "name": "python3",
   "display_name": "Python 3.9.6 64-bit"
  },
  "interpreter": {
   "hash": "aee8b7b246df8f9039afb4144a1f6fd8d2ca17a180786b69acc140d282b71a49"
  }
 },
 "nbformat": 4,
 "nbformat_minor": 2
}