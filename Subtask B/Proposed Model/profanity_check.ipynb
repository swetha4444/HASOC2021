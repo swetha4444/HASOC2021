{
  "nbformat": 4,
  "nbformat_minor": 2,
  "metadata": {
    "colab": {
      "name": "Profanity_Check",
      "provenance": []
    },
    "kernelspec": {
      "name": "python3",
      "display_name": "Python 3.9.6 64-bit"
    },
    "language_info": {
      "name": "python",
      "version": "3.9.6",
      "mimetype": "text/x-python",
      "codemirror_mode": {
        "name": "ipython",
        "version": 3
      },
      "pygments_lexer": "ipython3",
      "nbconvert_exporter": "python",
      "file_extension": ".py"
    },
    "interpreter": {
      "hash": "aee8b7b246df8f9039afb4144a1f6fd8d2ca17a180786b69acc140d282b71a49"
    }
  },
  "cells": [
    {
      "cell_type": "code",
      "execution_count": null,
      "source": [
        "pip install profanity-check"
      ],
      "outputs": [],
      "metadata": {
        "id": "mbfZBrow3yhV"
      }
    },
    {
      "cell_type": "code",
      "execution_count": null,
      "source": [
        "pip install profanityfilter"
      ],
      "outputs": [],
      "metadata": {
        "id": "AV3MhR_68YQN"
      }
    },
    {
      "cell_type": "code",
      "execution_count": null,
      "source": [
        "pip install cuss_inspect"
      ],
      "outputs": [],
      "metadata": {
        "id": "613utSE-F1ty"
      }
    },
    {
      "cell_type": "code",
      "execution_count": null,
      "source": [
        "pip install better-profanity"
      ],
      "outputs": [],
      "metadata": {
        "id": "yroPbac2I6qI"
      }
    },
    {
      "cell_type": "code",
      "execution_count": null,
      "source": [],
      "outputs": [],
      "metadata": {
        "id": "bwcstWWJKhHQ"
      }
    },
    {
      "cell_type": "code",
      "execution_count": null,
      "source": [],
      "outputs": [],
      "metadata": {
        "id": "PV20Z8Z5Kg_D"
      }
    },
    {
      "cell_type": "code",
      "execution_count": null,
      "source": [
        "from profanity_check import predict,predict_prob"
      ],
      "outputs": [],
      "metadata": {
        "id": "PpOvFk9N318k"
      }
    },
    {
      "cell_type": "code",
      "execution_count": 2,
      "source": [
        "from profanityfilter import ProfanityFilter\n",
        "pf = ProfanityFilter()"
      ],
      "outputs": [],
      "metadata": {
        "id": "2Xto0-HK8cgP"
      }
    },
    {
      "cell_type": "code",
      "execution_count": null,
      "source": [
        "from cuss_inspect import predict, predict_prob"
      ],
      "outputs": [],
      "metadata": {
        "id": "C7jEnJfYGRbf"
      }
    },
    {
      "cell_type": "code",
      "execution_count": 3,
      "source": [
        "from better_profanity import profanity"
      ],
      "outputs": [],
      "metadata": {
        "id": "aB6YpkVBJACm"
      }
    },
    {
      "cell_type": "code",
      "execution_count": 6,
      "source": [
        "import pandas as pd"
      ],
      "outputs": [],
      "metadata": {
        "id": "zUqHMoNU5diH"
      }
    },
    {
      "cell_type": "code",
      "execution_count": 7,
      "source": [
        "dataframe = pd.read_csv('../preprocess_data.csv')"
      ],
      "outputs": [],
      "metadata": {
        "id": "b3p0E8Dx5XyK"
      }
    },
    {
      "cell_type": "code",
      "execution_count": 8,
      "source": [
        "rslt_df = dataframe[dataframe['task_2'] == 'PRFN']"
      ],
      "outputs": [],
      "metadata": {
        "id": "JDogRYd45U5P"
      }
    },
    {
      "cell_type": "code",
      "execution_count": 9,
      "source": [
        "len(rslt_df)"
      ],
      "outputs": [
        {
          "output_type": "execute_result",
          "data": {
            "text/plain": [
              "1196"
            ]
          },
          "metadata": {},
          "execution_count": 9
        }
      ],
      "metadata": {
        "colab": {
          "base_uri": "https://localhost:8080/"
        },
        "id": "NWg0xbCJ5UYE",
        "outputId": "6907b035-b0fe-4054-c402-83630d2f0c75"
      }
    },
    {
      "cell_type": "code",
      "execution_count": null,
      "source": [
        "op = []\n",
        "for txt in rslt_df['text_clean'].tolist():\n",
        "  if(predict([txt])[0] == 1):\n",
        "    op.append('PRFN')\n",
        "  else:\n",
        "    op.append('NOT')"
      ],
      "outputs": [],
      "metadata": {
        "id": "mQAe_2xE5qSL"
      }
    },
    {
      "cell_type": "code",
      "execution_count": 12,
      "source": [
        "# Good\n",
        "op = []\n",
        "for txt in rslt_df['text_clean'].tolist():\n",
        "  if(pf.is_profane(txt) == True):\n",
        "    op.append('PRFN')\n",
        "  else:\n",
        "    op.append('NOT')"
      ],
      "outputs": [],
      "metadata": {
        "id": "rW7uRUh38vjm"
      }
    },
    {
      "cell_type": "code",
      "execution_count": 12,
      "source": [
        "# Best\n",
        "op = []\n",
        "for txt in rslt_df['text_clean'].tolist():\n",
        "  if(profanity.contains_profanity(txt) == True):\n",
        "    op.append('PRFN')\n",
        "  else:\n",
        "    if(pf.is_profane(txt) == True):\n",
        "      op.append('PRFN')\n",
        "    else:\n",
        "      op.append('NOT')"
      ],
      "outputs": [],
      "metadata": {
        "id": "i66ZzqwOJGri"
      }
    },
    {
      "cell_type": "code",
      "execution_count": 13,
      "source": [
        "y_true = rslt_df['task_2'].tolist()"
      ],
      "outputs": [],
      "metadata": {
        "id": "13nVAF1I6Ily"
      }
    },
    {
      "cell_type": "code",
      "execution_count": 14,
      "source": [
        "from sklearn.metrics import confusion_matrix\n",
        "confusion_matrix(y_true, op)"
      ],
      "outputs": [
        {
          "output_type": "execute_result",
          "data": {
            "text/plain": [
              "array([[   0,    0],\n",
              "       [  93, 1103]])"
            ]
          },
          "metadata": {},
          "execution_count": 14
        }
      ],
      "metadata": {
        "colab": {
          "base_uri": "https://localhost:8080/"
        },
        "id": "r4iJUNcJ6Wya",
        "outputId": "112ce37c-e110-40b2-9c0c-d84c51fa0714"
      }
    },
    {
      "cell_type": "code",
      "execution_count": 15,
      "source": [
        "from sklearn.metrics import accuracy_score\n",
        "accuracy_score(y_true, op)"
      ],
      "outputs": [
        {
          "output_type": "execute_result",
          "data": {
            "text/plain": [
              "0.9222408026755853"
            ]
          },
          "metadata": {},
          "execution_count": 15
        }
      ],
      "metadata": {
        "colab": {
          "base_uri": "https://localhost:8080/"
        },
        "id": "osb6pV9s6jOj",
        "outputId": "75d39ead-868c-4ed7-fc4a-457636654021"
      }
    },
    {
      "cell_type": "code",
      "execution_count": 16,
      "source": [
        "from sklearn import metrics\n",
        "print(metrics.classification_report(y_true,op))"
      ],
      "outputs": [
        {
          "output_type": "stream",
          "name": "stdout",
          "text": [
            "              precision    recall  f1-score   support\n",
            "\n",
            "         NOT       0.00      0.00      0.00         0\n",
            "        PRFN       1.00      0.92      0.96      1196\n",
            "\n",
            "    accuracy                           0.92      1196\n",
            "   macro avg       0.50      0.46      0.48      1196\n",
            "weighted avg       1.00      0.92      0.96      1196\n",
            "\n"
          ]
        },
        {
          "output_type": "stream",
          "name": "stderr",
          "text": [
            "/usr/local/lib/python3.9/site-packages/sklearn/metrics/_classification.py:1248: UndefinedMetricWarning: Recall and F-score are ill-defined and being set to 0.0 in labels with no true samples. Use `zero_division` parameter to control this behavior.\n",
            "  _warn_prf(average, modifier, msg_start, len(result))\n",
            "/usr/local/lib/python3.9/site-packages/sklearn/metrics/_classification.py:1248: UndefinedMetricWarning: Recall and F-score are ill-defined and being set to 0.0 in labels with no true samples. Use `zero_division` parameter to control this behavior.\n",
            "  _warn_prf(average, modifier, msg_start, len(result))\n",
            "/usr/local/lib/python3.9/site-packages/sklearn/metrics/_classification.py:1248: UndefinedMetricWarning: Recall and F-score are ill-defined and being set to 0.0 in labels with no true samples. Use `zero_division` parameter to control this behavior.\n",
            "  _warn_prf(average, modifier, msg_start, len(result))\n"
          ]
        }
      ],
      "metadata": {}
    },
    {
      "cell_type": "code",
      "execution_count": null,
      "source": [
        "i = 0\n",
        "x_task = rslt_df['task_2'].tolist()\n",
        "x_text = rslt_df['text_clean'].tolist()\n",
        "for i in range (len(rslt_df)):\n",
        "  if(x_task[i] != op[i]):\n",
        "    print(x_text[i],x_task[i],op[i])\n",
        "  i += 1"
      ],
      "outputs": [],
      "metadata": {
        "id": "Cg3jyGiK6tD7"
      }
    }
  ]
}