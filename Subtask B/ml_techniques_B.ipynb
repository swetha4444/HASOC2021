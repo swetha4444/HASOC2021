{
 "cells": [
  {
   "cell_type": "code",
   "execution_count": 1,
   "metadata": {},
   "outputs": [],
   "source": [
    "import numpy as np\n",
    "import matplotlib.pyplot as plt\n",
    "import pandas as pd"
   ]
  },
  {
   "cell_type": "code",
   "execution_count": 2,
   "metadata": {},
   "outputs": [
    {
     "data": {
      "text/html": [
       "<div>\n",
       "<style scoped>\n",
       "    .dataframe tbody tr th:only-of-type {\n",
       "        vertical-align: middle;\n",
       "    }\n",
       "\n",
       "    .dataframe tbody tr th {\n",
       "        vertical-align: top;\n",
       "    }\n",
       "\n",
       "    .dataframe thead th {\n",
       "        text-align: right;\n",
       "    }\n",
       "</style>\n",
       "<table border=\"1\" class=\"dataframe\">\n",
       "  <thead>\n",
       "    <tr style=\"text-align: right;\">\n",
       "      <th></th>\n",
       "      <th>Unnamed: 0.1</th>\n",
       "      <th>_id</th>\n",
       "      <th>task_2</th>\n",
       "      <th>text_clean</th>\n",
       "    </tr>\n",
       "  </thead>\n",
       "  <tbody>\n",
       "    <tr>\n",
       "      <th>0</th>\n",
       "      <td>4986</td>\n",
       "      <td>60c5d6bf5659ea5e55defa2c</td>\n",
       "      <td>PRFN</td>\n",
       "      <td>made amp amp onli abl start make money sustain...</td>\n",
       "    </tr>\n",
       "    <tr>\n",
       "      <th>1</th>\n",
       "      <td>3394</td>\n",
       "      <td>60c5d6bf5659ea5e55def461</td>\n",
       "      <td>OFFN</td>\n",
       "      <td>technic still turn back clock dick head</td>\n",
       "    </tr>\n",
       "    <tr>\n",
       "      <th>2</th>\n",
       "      <td>1310</td>\n",
       "      <td>60c5d6bf5659ea5e55defaad</td>\n",
       "      <td>NONE</td>\n",
       "      <td>govt stop think world media liber gang ani opt...</td>\n",
       "    </tr>\n",
       "    <tr>\n",
       "      <th>3</th>\n",
       "      <td>3390</td>\n",
       "      <td>60c5d6bf5659ea5e55def419</td>\n",
       "      <td>OFFN</td>\n",
       "      <td>soldier japan dick head</td>\n",
       "    </tr>\n",
       "    <tr>\n",
       "      <th>4</th>\n",
       "      <td>4626</td>\n",
       "      <td>60c5d6bf5659ea5e55def7fa</td>\n",
       "      <td>OFFN</td>\n",
       "      <td>would better ask think sleazi shitbag lmao</td>\n",
       "    </tr>\n",
       "  </tbody>\n",
       "</table>\n",
       "</div>"
      ],
      "text/plain": [
       "   Unnamed: 0.1                       _id task_2  \\\n",
       "0          4986  60c5d6bf5659ea5e55defa2c   PRFN   \n",
       "1          3394  60c5d6bf5659ea5e55def461   OFFN   \n",
       "2          1310  60c5d6bf5659ea5e55defaad   NONE   \n",
       "3          3390  60c5d6bf5659ea5e55def419   OFFN   \n",
       "4          4626  60c5d6bf5659ea5e55def7fa   OFFN   \n",
       "\n",
       "                                          text_clean  \n",
       "0  made amp amp onli abl start make money sustain...  \n",
       "1            technic still turn back clock dick head  \n",
       "2  govt stop think world media liber gang ani opt...  \n",
       "3                            soldier japan dick head  \n",
       "4         would better ask think sleazi shitbag lmao  "
      ]
     },
     "execution_count": 2,
     "metadata": {},
     "output_type": "execute_result"
    }
   ],
   "source": [
    "df = pd.read_csv('../preprocess_data.csv')\n",
    "df.drop(['task_1','Unnamed: 0','text'], axis=1, inplace=True)\n",
    "df.head()"
   ]
  },
  {
   "cell_type": "code",
   "execution_count": 3,
   "metadata": {},
   "outputs": [
    {
     "data": {
      "text/plain": [
       "Text(0, 0.5, 'Frequency')"
      ]
     },
     "execution_count": 3,
     "metadata": {},
     "output_type": "execute_result"
    },
    {
     "data": {
      "image/png": "[encoded data removed]",
      "text/plain": [
       "<Figure size 216x216 with 1 Axes>"
      ]
     },
     "metadata": {
      "needs_background": "light"
     },
     "output_type": "display_data"
    }
   ],
   "source": [
    "fig, ax = plt.subplots(figsize=(3,3))\n",
    "\n",
    "ax.hist(df['task_2'])\n",
    "\n",
    "ax.set_title('Tweet Hates')\n",
    "ax.set_xlabel('Tweets')\n",
    "ax.set_ylabel('Frequency')"
   ]
  },
  {
   "cell_type": "code",
   "execution_count": 4,
   "metadata": {},
   "outputs": [],
   "source": [
    "from sklearn.feature_extraction.text import TfidfVectorizer\n",
    "tfidfconverter = TfidfVectorizer(max_features=2000, min_df=5)\n",
    "X = tfidfconverter.fit_transform(df['text_clean'].values.astype('U')).toarray()\n",
    "y = df['task_2']"
   ]
  },
  {
   "cell_type": "code",
   "execution_count": 5,
   "metadata": {},
   "outputs": [],
   "source": [
    "\n",
    "from sklearn.preprocessing import LabelEncoder\n",
    "le = LabelEncoder()\n",
    "y= le.fit_transform(y)"
   ]
  },
  {
   "cell_type": "code",
   "execution_count": 6,
   "metadata": {},
   "outputs": [],
   "source": [
    "from sklearn.model_selection import train_test_split\n",
    "X_train, X_test, y_train, y_test = train_test_split(X, y, test_size = 0.15, random_state = 0)"
   ]
  },
  {
   "cell_type": "code",
   "execution_count": 7,
   "metadata": {},
   "outputs": [
    {
     "name": "stdout",
     "output_type": "stream",
     "text": [
      "[[ 34  19  40   3]\n",
      " [ 46  58  60  33]\n",
      " [ 26  15  36  27]\n",
      " [  6  20  27 127]]\n"
     ]
    },
    {
     "data": {
      "text/plain": [
       "0.44194107452339687"
      ]
     },
     "execution_count": 7,
     "metadata": {},
     "output_type": "execute_result"
    }
   ],
   "source": [
    "from sklearn.naive_bayes import GaussianNB\n",
    "classifier = GaussianNB()\n",
    "classifier.fit(X_train, y_train)\n",
    "y_pred = classifier.predict(X_test)\n",
    "\n",
    "from sklearn.metrics import confusion_matrix, accuracy_score\n",
    "cm = confusion_matrix(y_test, y_pred)\n",
    "print(cm)\n",
    "accuracy_score(y_test, y_pred)"
   ]
  },
  {
   "cell_type": "code",
   "execution_count": 9,
   "metadata": {},
   "outputs": [
    {
     "name": "stdout",
     "output_type": "stream",
     "text": [
      "[[ 13  69   8   6]\n",
      " [ 10 155   7  25]\n",
      " [  9  53   9  33]\n",
      " [  0  26   2 152]]\n"
     ]
    },
    {
     "data": {
      "text/plain": [
       "0.5701906412478336"
      ]
     },
     "execution_count": 9,
     "metadata": {},
     "output_type": "execute_result"
    }
   ],
   "source": [
    "from sklearn.neighbors import KNeighborsClassifier\n",
    "classifier = KNeighborsClassifier(n_neighbors = 18, metric = 'minkowski', p = 2)\n",
    "classifier.fit(X_train, y_train)\n",
    "y_pred = classifier.predict(X_test)\n",
    "\n",
    "from sklearn.metrics import confusion_matrix, accuracy_score\n",
    "cm = confusion_matrix(y_test, y_pred)\n",
    "print(cm)\n",
    "accuracy_score(y_test, y_pred)"
   ]
  },
  {
   "cell_type": "code",
   "execution_count": 10,
   "metadata": {},
   "outputs": [
    {
     "name": "stdout",
     "output_type": "stream",
     "text": [
      "[[ 40  36  18   2]\n",
      " [ 30 131  12  24]\n",
      " [ 37  21  16  30]\n",
      " [  1  15   3 161]]\n"
     ]
    },
    {
     "data": {
      "text/plain": [
       "0.6031195840554593"
      ]
     },
     "execution_count": 10,
     "metadata": {},
     "output_type": "execute_result"
    }
   ],
   "source": [
    "from sklearn.svm import SVC\n",
    "classifier = SVC(kernel = 'linear', random_state = 42)\n",
    "classifier.fit(X_train, y_train)\n",
    "y_pred = classifier.predict(X_test)\n",
    "\n",
    "from sklearn.metrics import confusion_matrix, accuracy_score\n",
    "cm = confusion_matrix(y_test, y_pred)\n",
    "print(cm)\n",
    "accuracy_score(y_test, y_pred)"
   ]
  },
  {
   "cell_type": "code",
   "execution_count": 11,
   "metadata": {},
   "outputs": [
    {
     "name": "stdout",
     "output_type": "stream",
     "text": [
      "[[ 32  42  18   4]\n",
      " [ 29 124  19  25]\n",
      " [ 25  30  25  24]\n",
      " [  7  21  22 130]]\n"
     ]
    },
    {
     "data": {
      "text/plain": [
       "0.5389948006932409"
      ]
     },
     "execution_count": 11,
     "metadata": {},
     "output_type": "execute_result"
    }
   ],
   "source": [
    "from sklearn.tree import DecisionTreeClassifier\n",
    "classifier = DecisionTreeClassifier(criterion = 'entropy', random_state = 48)\n",
    "classifier.fit(X_train, y_train)\n",
    "y_pred = classifier.predict(X_test)\n",
    "\n",
    "from sklearn.metrics import confusion_matrix, accuracy_score\n",
    "cm = confusion_matrix(y_test, y_pred)\n",
    "print(cm)\n",
    "accuracy_score(y_test, y_pred)"
   ]
  },
  {
   "cell_type": "code",
   "execution_count": 12,
   "metadata": {
    "scrolled": true
   },
   "outputs": [
    {
     "name": "stdout",
     "output_type": "stream",
     "text": [
      "[[ 34  42  15   5]\n",
      " [ 24 139   9  25]\n",
      " [ 22  41  14  27]\n",
      " [  3  21   8 148]]\n"
     ]
    },
    {
     "data": {
      "text/plain": [
       "0.5805892547660312"
      ]
     },
     "execution_count": 12,
     "metadata": {},
     "output_type": "execute_result"
    }
   ],
   "source": [
    "from sklearn.ensemble import RandomForestClassifier\n",
    "classifier = RandomForestClassifier(n_estimators = 10, criterion = 'entropy', random_state = 0)\n",
    "classifier.fit(X_train, y_train)\n",
    "y_pred = classifier.predict(X_test)\n",
    "\n",
    "from sklearn.metrics import confusion_matrix, accuracy_score\n",
    "cm = confusion_matrix(y_test, y_pred)\n",
    "print(cm)\n",
    "accuracy_score(y_test, y_pred)"
   ]
  },
  {
   "cell_type": "code",
   "execution_count": 14,
   "metadata": {},
   "outputs": [],
   "source": [
    "from sklearn.model_selection import RepeatedKFold \n",
    "from sklearn.naive_bayes import BernoulliNB\n",
    "from sklearn.metrics import classification_report , accuracy_score\n",
    "import pickle"
   ]
  },
  {
   "cell_type": "code",
   "execution_count": 25,
   "metadata": {},
   "outputs": [
    {
     "name": "stdout",
     "output_type": "stream",
     "text": [
      "0.5558441558441558\n",
      "0.5948051948051948\n",
      "0.6311688311688312\n",
      "0.6354166666666666\n",
      "0.6380208333333334\n",
      "0.65625\n",
      "0.6614583333333334\n"
     ]
    }
   ],
   "source": [
    "from sklearn.svm import LinearSVC\n",
    "sv = LinearSVC()\n",
    "\n",
    "kf = RepeatedKFold(n_splits=10, n_repeats=10, random_state=None) \n",
    "\n",
    "bet_acc = 0.0\n",
    "\n",
    "for train_index, test_index in kf.split(X):\n",
    "      x_train, x_test = X[train_index], X[test_index] \n",
    "      y_train, y_test = y[train_index], y[test_index]\n",
    "\n",
    "      sv.fit(x_train,y_train)\n",
    "      predictions = sv.predict(x_test)\n",
    "\n",
    "      score = accuracy_score(y_test,predictions)\n",
    "\n",
    "      if score > bet_acc :\n",
    "        print(score)\n",
    "        bet_acc = score\n",
    "        filename = 'finalized_svc_model1.sav'\n",
    "        pickle.dump(sv, open(filename, 'wb'))"
   ]
  },
  {
   "cell_type": "code",
   "execution_count": 21,
   "metadata": {},
   "outputs": [
    {
     "name": "stdout",
     "output_type": "stream",
     "text": [
      "0.6649350649350649\n",
      "0.6901041666666666\n"
     ]
    }
   ],
   "source": [
    "from sklearn.ensemble import RandomForestClassifier\n",
    "rf = RandomForestClassifier()\n",
    "\n",
    "kf = RepeatedKFold(n_splits=10, n_repeats=10, random_state=None) \n",
    "\n",
    "bet_acc = 0.0\n",
    "\n",
    "for train_index, test_index in kf.split(X):\n",
    "      x_train, x_test = X[train_index], X[test_index] \n",
    "      y_train, y_test = y[train_index], y[test_index]\n",
    "\n",
    "      rf.fit(x_train,y_train)\n",
    "      predictions = rf.predict(x_test)\n",
    "\n",
    "      score = accuracy_score(y_test,predictions)\n",
    "\n",
    "      if  score > bet_acc :\n",
    "        print(score)\n",
    "        bet_acc = score\n",
    "        filename = 'finalized_rfc_model1.sav'\n",
    "        pickle.dump(rf, open(filename, 'wb'))"
   ]
  },
  {
   "cell_type": "code",
   "execution_count": 26,
   "metadata": {},
   "outputs": [
    {
     "name": "stdout",
     "output_type": "stream",
     "text": [
      "0.6\n",
      "0.6015625\n",
      "0.6067708333333334\n",
      "0.6155844155844156\n",
      "0.625\n",
      "0.6467532467532467\n"
     ]
    }
   ],
   "source": [
    "from sklearn.neighbors import KNeighborsClassifier\n",
    "classifier = KNeighborsClassifier(n_neighbors = 18, metric = 'minkowski', p = 2)\n",
    "kf = RepeatedKFold(n_splits=10, n_repeats=10, random_state=None) \n",
    "bet_acc = 0.0\n",
    "\n",
    "for train_index, test_index in kf.split(X):\n",
    "      x_train, x_test = X[train_index], X[test_index] \n",
    "      y_train, y_test = y[train_index], y[test_index]\n",
    "\n",
    "      classifier.fit(x_train,y_train)\n",
    "      predictions = classifier.predict(x_test)\n",
    "\n",
    "      score = accuracy_score(y_test,predictions)\n",
    "\n",
    "      if  score > bet_acc :\n",
    "        print(score)\n",
    "        bet_acc = score\n",
    "        filename = 'finalized_Knc_model1.sav'\n",
    "        pickle.dump(classifier, open(filename, 'wb'))"
   ]
  },
  {
   "cell_type": "code",
   "execution_count": 24,
   "metadata": {},
   "outputs": [
    {
     "name": "stdout",
     "output_type": "stream",
     "text": [
      "0.3149847094801223\n",
      "0.3241590214067278\n",
      "0.3394495412844037\n",
      "0.34662576687116564\n",
      "0.36809815950920244\n",
      "0.3730886850152905\n"
     ]
    }
   ],
   "source": [
    "from sklearn.model_selection import RepeatedKFold \n",
    "from sklearn.naive_bayes import BernoulliNB\n",
    "from sklearn.metrics import classification_report , accuracy_score\n",
    "import pickle\n",
    "\n",
    "bnb = BernoulliNB()\n",
    "\n",
    "kf = RepeatedKFold(n_splits=10, n_repeats=10, random_state=None) \n",
    "\n",
    "bet_acc = 0.0\n",
    "\n",
    "for train_index, test_index in kf.split(X_train):\n",
    "      x_train, x_test = X_train[train_index], X_train[test_index] \n",
    "      y_train, y_test = y[train_index], y[test_index]\n",
    "\n",
    "      bnb.fit(x_train,y_train)\n",
    "      predictions = bnb.predict(x_test)\n",
    "\n",
    "      score = accuracy_score(y_test,predictions)\n",
    "\n",
    "      if  score > bet_acc :\n",
    "        print(score)\n",
    "        bet_acc = score\n",
    "        # save the model to disk\n",
    "        filename = 'finalized_nb_model1.sav'\n",
    "        pickle.dump(bnb, open(filename, 'wb'))"
   ]
  },
  {
   "cell_type": "code",
   "execution_count": null,
   "metadata": {},
   "outputs": [],
   "source": []
  }
 ],
 "metadata": {
  "interpreter": {
   "hash": "95c10dbc6f7eccef0c1ace84822d618f7863d3bc26cab307fc0169bb43c23fbe"
  },
  "kernelspec": {
   "display_name": "Python 3",
   "language": "python",
   "name": "python3"
  },
  "language_info": {
   "codemirror_mode": {
    "name": "ipython",
    "version": 3
   },
   "file_extension": ".py",
   "mimetype": "text/x-python",
   "name": "python",
   "nbconvert_exporter": "python",
   "pygments_lexer": "ipython3",
   "version": "3.8.5"
  }
 },
 "nbformat": 4,
 "nbformat_minor": 2
}
