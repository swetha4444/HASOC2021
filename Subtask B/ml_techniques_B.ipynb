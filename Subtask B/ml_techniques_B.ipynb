{
 "cells": [
  {
   "cell_type": "code",
   "execution_count": 1,
   "source": [
    "import numpy as np\n",
    "import matplotlib.pyplot as plt\n",
    "import pandas as pd"
   ],
   "outputs": [],
   "metadata": {}
  },
  {
   "cell_type": "code",
   "execution_count": 2,
   "source": [
    "df = pd.read_csv('../preprocess_data.csv')\n",
    "df.drop(['task_1','Unnamed: 0','text'], axis=1, inplace=True)\n",
    "df.head()"
   ],
   "outputs": [
    {
     "output_type": "execute_result",
     "data": {
      "text/plain": [
       "   Unnamed: 0.1                       _id task_2  \\\n",
       "0          4986  60c5d6bf5659ea5e55defa2c   PRFN   \n",
       "1          3394  60c5d6bf5659ea5e55def461   OFFN   \n",
       "2          1310  60c5d6bf5659ea5e55defaad   NONE   \n",
       "3          3390  60c5d6bf5659ea5e55def419   OFFN   \n",
       "4          4626  60c5d6bf5659ea5e55def7fa   OFFN   \n",
       "\n",
       "                                          text_clean  \n",
       "0  made amp amp onli abl start make money sustain...  \n",
       "1            technic still turn back clock dick head  \n",
       "2  govt stop think world media liber gang ani opt...  \n",
       "3                            soldier japan dick head  \n",
       "4         would better ask think sleazi shitbag lmao  "
      ],
      "text/html": [
       "<div>\n",
       "<style scoped>\n",
       "    .dataframe tbody tr th:only-of-type {\n",
       "        vertical-align: middle;\n",
       "    }\n",
       "\n",
       "    .dataframe tbody tr th {\n",
       "        vertical-align: top;\n",
       "    }\n",
       "\n",
       "    .dataframe thead th {\n",
       "        text-align: right;\n",
       "    }\n",
       "</style>\n",
       "<table border=\"1\" class=\"dataframe\">\n",
       "  <thead>\n",
       "    <tr style=\"text-align: right;\">\n",
       "      <th></th>\n",
       "      <th>Unnamed: 0.1</th>\n",
       "      <th>_id</th>\n",
       "      <th>task_2</th>\n",
       "      <th>text_clean</th>\n",
       "    </tr>\n",
       "  </thead>\n",
       "  <tbody>\n",
       "    <tr>\n",
       "      <th>0</th>\n",
       "      <td>4986</td>\n",
       "      <td>60c5d6bf5659ea5e55defa2c</td>\n",
       "      <td>PRFN</td>\n",
       "      <td>made amp amp onli abl start make money sustain...</td>\n",
       "    </tr>\n",
       "    <tr>\n",
       "      <th>1</th>\n",
       "      <td>3394</td>\n",
       "      <td>60c5d6bf5659ea5e55def461</td>\n",
       "      <td>OFFN</td>\n",
       "      <td>technic still turn back clock dick head</td>\n",
       "    </tr>\n",
       "    <tr>\n",
       "      <th>2</th>\n",
       "      <td>1310</td>\n",
       "      <td>60c5d6bf5659ea5e55defaad</td>\n",
       "      <td>NONE</td>\n",
       "      <td>govt stop think world media liber gang ani opt...</td>\n",
       "    </tr>\n",
       "    <tr>\n",
       "      <th>3</th>\n",
       "      <td>3390</td>\n",
       "      <td>60c5d6bf5659ea5e55def419</td>\n",
       "      <td>OFFN</td>\n",
       "      <td>soldier japan dick head</td>\n",
       "    </tr>\n",
       "    <tr>\n",
       "      <th>4</th>\n",
       "      <td>4626</td>\n",
       "      <td>60c5d6bf5659ea5e55def7fa</td>\n",
       "      <td>OFFN</td>\n",
       "      <td>would better ask think sleazi shitbag lmao</td>\n",
       "    </tr>\n",
       "  </tbody>\n",
       "</table>\n",
       "</div>"
      ]
     },
     "metadata": {},
     "execution_count": 2
    }
   ],
   "metadata": {}
  },
  {
   "cell_type": "code",
   "execution_count": 3,
   "source": [
    "fig, ax = plt.subplots(figsize=(3,3))\n",
    "\n",
    "ax.hist(df['task_2'])\n",
    "\n",
    "ax.set_title('Tweet Hates')\n",
    "ax.set_xlabel('Tweets')\n",
    "ax.set_ylabel('Frequency')"
   ],
   "outputs": [
    {
     "output_type": "execute_result",
     "data": {
      "text/plain": [
       "Text(0, 0.5, 'Frequency')"
      ]
     },
     "metadata": {},
     "execution_count": 3
    },
    {
     "output_type": "display_data",
     "data": {
      "text/plain": [
       "<Figure size 216x216 with 1 Axes>"
      ],
      "image/png": "[encoded data removed]"
     },
     "metadata": {
      "needs_background": "light"
     }
    }
   ],
   "metadata": {}
  },
  {
   "cell_type": "code",
   "execution_count": 4,
   "source": [
    "from sklearn.feature_extraction.text import TfidfVectorizer\n",
    "tfidfconverter = TfidfVectorizer(max_features=2000, min_df=5)\n",
    "X = tfidfconverter.fit_transform(df['text_clean'].values.astype('U')).toarray()\n",
    "y = df['task_2']"
   ],
   "outputs": [],
   "metadata": {}
  },
  {
   "cell_type": "code",
   "execution_count": 5,
   "source": [
    "\n",
    "from sklearn.preprocessing import LabelEncoder\n",
    "le = LabelEncoder()\n",
    "y= le.fit_transform(y)"
   ],
   "outputs": [],
   "metadata": {}
  },
  {
   "cell_type": "code",
   "execution_count": 6,
   "source": [
    "from sklearn.model_selection import train_test_split\n",
    "X_train, X_test, y_train, y_test = train_test_split(X, y, test_size = 0.15, random_state = 0)"
   ],
   "outputs": [],
   "metadata": {}
  },
  {
   "cell_type": "code",
   "execution_count": 8,
   "source": [
    "from sklearn.naive_bayes import GaussianNB\n",
    "from sklearn import metrics\n",
    "classifier = GaussianNB()\n",
    "classifier.fit(X_train, y_train)\n",
    "y_pred = classifier.predict(X_test)\n",
    "\n",
    "from sklearn.metrics import confusion_matrix, accuracy_score\n",
    "cm = confusion_matrix(y_test, y_pred)\n",
    "print(cm)\n",
    "accuracy_score(y_test, y_pred)\n",
    "print(metrics.classification_report(y_test,y_pred))"
   ],
   "outputs": [
    {
     "output_type": "stream",
     "name": "stdout",
     "text": [
      "[[ 34  19  40   3]\n",
      " [ 46  58  60  33]\n",
      " [ 26  15  36  27]\n",
      " [  6  20  27 127]]\n",
      "              precision    recall  f1-score   support\n",
      "\n",
      "           0       0.30      0.35      0.33        96\n",
      "           1       0.52      0.29      0.38       197\n",
      "           2       0.22      0.35      0.27       104\n",
      "           3       0.67      0.71      0.69       180\n",
      "\n",
      "    accuracy                           0.44       577\n",
      "   macro avg       0.43      0.43      0.41       577\n",
      "weighted avg       0.48      0.44      0.45       577\n",
      "\n"
     ]
    }
   ],
   "metadata": {}
  },
  {
   "cell_type": "code",
   "execution_count": 9,
   "source": [
    "from sklearn.linear_model import LogisticRegression\n",
    "classifier = LogisticRegression(random_state = 0)\n",
    "classifier.fit(X_train, y_train)\n",
    "y_pred = classifier.predict(X_test)\n",
    "\n",
    "from sklearn.metrics import confusion_matrix, accuracy_score\n",
    "cm = confusion_matrix(y_test, y_pred)\n",
    "print(cm)\n",
    "accuracy_score(y_test, y_pred)\n",
    "print(metrics.classification_report(y_test,y_pred))"
   ],
   "outputs": [
    {
     "output_type": "stream",
     "name": "stdout",
     "text": [
      "[[ 35  42  16   3]\n",
      " [ 15 150   9  23]\n",
      " [ 34  25  17  28]\n",
      " [  0  15   3 162]]\n",
      "              precision    recall  f1-score   support\n",
      "\n",
      "           0       0.42      0.36      0.39        96\n",
      "           1       0.65      0.76      0.70       197\n",
      "           2       0.38      0.16      0.23       104\n",
      "           3       0.75      0.90      0.82       180\n",
      "\n",
      "    accuracy                           0.63       577\n",
      "   macro avg       0.55      0.55      0.53       577\n",
      "weighted avg       0.59      0.63      0.60       577\n",
      "\n"
     ]
    },
    {
     "output_type": "stream",
     "name": "stderr",
     "text": [
      "/usr/local/lib/python3.9/site-packages/sklearn/linear_model/_logistic.py:763: ConvergenceWarning: lbfgs failed to converge (status=1):\n",
      "STOP: TOTAL NO. of ITERATIONS REACHED LIMIT.\n",
      "\n",
      "Increase the number of iterations (max_iter) or scale the data as shown in:\n",
      "    https://scikit-learn.org/stable/modules/preprocessing.html\n",
      "Please also refer to the documentation for alternative solver options:\n",
      "    https://scikit-learn.org/stable/modules/linear_model.html#logistic-regression\n",
      "  n_iter_i = _check_optimize_result(\n"
     ]
    }
   ],
   "metadata": {}
  },
  {
   "cell_type": "code",
   "execution_count": 10,
   "source": [
    "from sklearn.neighbors import KNeighborsClassifier\n",
    "classifier = KNeighborsClassifier(n_neighbors = 18, metric = 'minkowski', p = 2)\n",
    "classifier.fit(X_train, y_train)\n",
    "y_pred = classifier.predict(X_test)\n",
    "\n",
    "from sklearn.metrics import confusion_matrix, accuracy_score\n",
    "cm = confusion_matrix(y_test, y_pred)\n",
    "print(cm)\n",
    "accuracy_score(y_test, y_pred)\n",
    "print(metrics.classification_report(y_test,y_pred))"
   ],
   "outputs": [
    {
     "output_type": "stream",
     "name": "stdout",
     "text": [
      "[[ 13  69   8   6]\n",
      " [ 10 154   6  27]\n",
      " [  9  53   9  33]\n",
      " [  0  26   2 152]]\n",
      "              precision    recall  f1-score   support\n",
      "\n",
      "           0       0.41      0.14      0.20        96\n",
      "           1       0.51      0.78      0.62       197\n",
      "           2       0.36      0.09      0.14       104\n",
      "           3       0.70      0.84      0.76       180\n",
      "\n",
      "    accuracy                           0.57       577\n",
      "   macro avg       0.49      0.46      0.43       577\n",
      "weighted avg       0.52      0.57      0.51       577\n",
      "\n"
     ]
    }
   ],
   "metadata": {}
  },
  {
   "cell_type": "code",
   "execution_count": 11,
   "source": [
    "from sklearn.svm import SVC\n",
    "classifier = SVC(kernel = 'linear', random_state = 42)\n",
    "classifier.fit(X_train, y_train)\n",
    "y_pred = classifier.predict(X_test)\n",
    "\n",
    "from sklearn.metrics import confusion_matrix, accuracy_score\n",
    "cm = confusion_matrix(y_test, y_pred)\n",
    "print(cm)\n",
    "accuracy_score(y_test, y_pred)\n",
    "print(metrics.classification_report(y_test,y_pred))"
   ],
   "outputs": [
    {
     "output_type": "stream",
     "name": "stdout",
     "text": [
      "[[ 40  36  18   2]\n",
      " [ 30 131  12  24]\n",
      " [ 37  21  16  30]\n",
      " [  1  15   3 161]]\n",
      "              precision    recall  f1-score   support\n",
      "\n",
      "           0       0.37      0.42      0.39        96\n",
      "           1       0.65      0.66      0.65       197\n",
      "           2       0.33      0.15      0.21       104\n",
      "           3       0.74      0.89      0.81       180\n",
      "\n",
      "    accuracy                           0.60       577\n",
      "   macro avg       0.52      0.53      0.52       577\n",
      "weighted avg       0.57      0.60      0.58       577\n",
      "\n"
     ]
    }
   ],
   "metadata": {}
  },
  {
   "cell_type": "code",
   "execution_count": 12,
   "source": [
    "from sklearn.tree import DecisionTreeClassifier\n",
    "classifier = DecisionTreeClassifier(criterion = 'entropy', random_state = 48)\n",
    "classifier.fit(X_train, y_train)\n",
    "y_pred = classifier.predict(X_test)\n",
    "\n",
    "from sklearn.metrics import confusion_matrix, accuracy_score\n",
    "cm = confusion_matrix(y_test, y_pred)\n",
    "print(cm)\n",
    "accuracy_score(y_test, y_pred)\n",
    "print(metrics.classification_report(y_test,y_pred))"
   ],
   "outputs": [
    {
     "output_type": "stream",
     "name": "stdout",
     "text": [
      "[[ 32  42  18   4]\n",
      " [ 29 124  19  25]\n",
      " [ 25  30  25  24]\n",
      " [  7  21  22 130]]\n",
      "              precision    recall  f1-score   support\n",
      "\n",
      "           0       0.34      0.33      0.34        96\n",
      "           1       0.57      0.63      0.60       197\n",
      "           2       0.30      0.24      0.27       104\n",
      "           3       0.71      0.72      0.72       180\n",
      "\n",
      "    accuracy                           0.54       577\n",
      "   macro avg       0.48      0.48      0.48       577\n",
      "weighted avg       0.53      0.54      0.53       577\n",
      "\n"
     ]
    }
   ],
   "metadata": {}
  },
  {
   "cell_type": "code",
   "execution_count": 13,
   "source": [
    "from sklearn.ensemble import RandomForestClassifier\n",
    "classifier = RandomForestClassifier(n_estimators = 10, criterion = 'entropy', random_state = 0)\n",
    "classifier.fit(X_train, y_train)\n",
    "y_pred = classifier.predict(X_test)\n",
    "\n",
    "from sklearn.metrics import confusion_matrix, accuracy_score\n",
    "cm = confusion_matrix(y_test, y_pred)\n",
    "print(cm)\n",
    "accuracy_score(y_test, y_pred)\n",
    "print(metrics.classification_report(y_test,y_pred))"
   ],
   "outputs": [
    {
     "output_type": "stream",
     "name": "stdout",
     "text": [
      "[[ 34  42  15   5]\n",
      " [ 24 139   9  25]\n",
      " [ 22  41  14  27]\n",
      " [  3  21   8 148]]\n",
      "              precision    recall  f1-score   support\n",
      "\n",
      "           0       0.41      0.35      0.38        96\n",
      "           1       0.57      0.71      0.63       197\n",
      "           2       0.30      0.13      0.19       104\n",
      "           3       0.72      0.82      0.77       180\n",
      "\n",
      "    accuracy                           0.58       577\n",
      "   macro avg       0.50      0.50      0.49       577\n",
      "weighted avg       0.54      0.58      0.55       577\n",
      "\n"
     ]
    }
   ],
   "metadata": {}
  },
  {
   "cell_type": "code",
   "execution_count": 15,
   "source": [
    "from sklearn.model_selection import RepeatedKFold"
   ],
   "outputs": [],
   "metadata": {}
  },
  {
   "cell_type": "code",
   "execution_count": 16,
   "source": [
    "from sklearn.svm import LinearSVC\n",
    "sv = LinearSVC()\n",
    "\n",
    "kf = RepeatedKFold(n_splits=10, n_repeats=10, random_state=None) \n",
    "\n",
    "bet_acc = 0.0\n",
    "\n",
    "for train_index, test_index in kf.split(X):\n",
    "      x_train, x_test = X[train_index], X[test_index] \n",
    "      y_train, y_test = y[train_index], y[test_index]\n",
    "\n",
    "      sv.fit(x_train,y_train)\n",
    "      predictions = sv.predict(x_test)\n",
    "\n",
    "      score = accuracy_score(y_test,predictions)\n",
    "\n",
    "      if  score > bet_acc :\n",
    "        print(score)\n",
    "        bet_acc = score\n",
    "\n"
   ],
   "outputs": [
    {
     "output_type": "stream",
     "name": "stdout",
     "text": [
      "0.5948051948051948\n",
      "0.6051948051948052\n",
      "0.625\n",
      "0.6363636363636364\n",
      "0.640625\n",
      "0.6519480519480519\n"
     ]
    }
   ],
   "metadata": {}
  },
  {
   "cell_type": "code",
   "execution_count": 17,
   "source": [
    "print(metrics.classification_report(y_test,predictions))"
   ],
   "outputs": [
    {
     "output_type": "stream",
     "name": "stdout",
     "text": [
      "              precision    recall  f1-score   support\n",
      "\n",
      "           0       0.46      0.34      0.39        67\n",
      "           1       0.60      0.66      0.63       131\n",
      "           2       0.45      0.29      0.35        70\n",
      "           3       0.66      0.83      0.73       116\n",
      "\n",
      "    accuracy                           0.59       384\n",
      "   macro avg       0.54      0.53      0.53       384\n",
      "weighted avg       0.57      0.59      0.57       384\n",
      "\n"
     ]
    }
   ],
   "metadata": {}
  },
  {
   "cell_type": "code",
   "execution_count": 18,
   "source": [
    "from sklearn.ensemble import RandomForestClassifier\n",
    "rf = RandomForestClassifier()\n",
    "\n",
    "kf = RepeatedKFold(n_splits=10, n_repeats=10, random_state=None) \n",
    "\n",
    "bet_acc = 0.0\n",
    "\n",
    "for train_index, test_index in kf.split(X):\n",
    "      x_train, x_test = X[train_index], X[test_index] \n",
    "      y_train, y_test = y[train_index], y[test_index]\n",
    "\n",
    "      rf.fit(x_train,y_train)\n",
    "      predictions = rf.predict(x_test)\n",
    "\n",
    "      score = accuracy_score(y_test,predictions)\n",
    "\n",
    "      if  score > bet_acc :\n",
    "        print(score)\n",
    "        bet_acc = score"
   ],
   "outputs": [
    {
     "output_type": "stream",
     "name": "stdout",
     "text": [
      "0.6467532467532467\n",
      "0.6640625\n"
     ]
    }
   ],
   "metadata": {}
  },
  {
   "cell_type": "code",
   "execution_count": null,
   "source": [
    "print(metrics.classification_report(y_test,predictions))"
   ],
   "outputs": [],
   "metadata": {}
  }
 ],
 "metadata": {
  "orig_nbformat": 4,
  "language_info": {
   "name": "python",
   "version": "3.9.6",
   "mimetype": "text/x-python",
   "codemirror_mode": {
    "name": "ipython",
    "version": 3
   },
   "pygments_lexer": "ipython3",
   "nbconvert_exporter": "python",
   "file_extension": ".py"
  },
  "kernelspec": {
   "name": "python3",
   "display_name": "Python 3.9.6 64-bit"
  },
  "interpreter": {
   "hash": "aee8b7b246df8f9039afb4144a1f6fd8d2ca17a180786b69acc140d282b71a49"
  }
 },
 "nbformat": 4,
 "nbformat_minor": 2
}